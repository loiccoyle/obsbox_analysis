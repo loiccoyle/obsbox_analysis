{
 "cells": [
  {
   "cell_type": "code",
   "execution_count": null,
   "metadata": {},
   "outputs": [],
   "source": [
    "import logging\n",
    "from pathlib import Path\n",
    "import numpy as np\n",
    "import matplotlib.pyplot as plt"
   ]
  },
  {
   "cell_type": "code",
   "execution_count": null,
   "metadata": {},
   "outputs": [],
   "source": [
    "from pyobsbox import Checker"
   ]
  },
  {
   "cell_type": "code",
   "execution_count": null,
   "metadata": {},
   "outputs": [],
   "source": [
    "logging.getLogger(\"pyobsbox\").setLevel(logging.WARNING)\n",
    "logging.getLogger(\"pyobsbox.plotter\").setLevel(logging.DEBUG)"
   ]
  },
  {
   "cell_type": "markdown",
   "metadata": {},
   "source": [
    "# List models"
   ]
  },
  {
   "cell_type": "code",
   "execution_count": null,
   "metadata": {},
   "outputs": [],
   "source": [
    "models_folder = Path(\"../../models\")"
   ]
  },
  {
   "cell_type": "code",
   "execution_count": null,
   "metadata": {},
   "outputs": [],
   "source": [
    "[model.name for model in list(models_folder.glob('model_*'))]"
   ]
  },
  {
   "cell_type": "code",
   "execution_count": null,
   "metadata": {},
   "outputs": [],
   "source": [
    "model_path = models_folder / \"{model_name}\""
   ]
  },
  {
   "cell_type": "code",
   "execution_count": null,
   "metadata": {},
   "outputs": [],
   "source": [
    "checker = Checker(model_path)"
   ]
  },
  {
   "cell_type": "code",
   "execution_count": null,
   "metadata": {},
   "outputs": [],
   "source": [
    "checker.plot_loss()"
   ]
  },
  {
   "cell_type": "code",
   "execution_count": null,
   "metadata": {},
   "outputs": [],
   "source": [
    "train_data, train_meta = checker.load_train_dataset()\n",
    "train_prediction = checker.predict(train_data)"
   ]
  },
  {
   "cell_type": "code",
   "execution_count": null,
   "metadata": {},
   "outputs": [],
   "source": [
    "train_meta.head()"
   ]
  },
  {
   "cell_type": "code",
   "execution_count": null,
   "metadata": {},
   "outputs": [],
   "source": [
    "train_meta.shape"
   ]
  },
  {
   "cell_type": "code",
   "execution_count": null,
   "metadata": {},
   "outputs": [],
   "source": [
    "train_data.shape"
   ]
  },
  {
   "cell_type": "code",
   "execution_count": null,
   "metadata": {},
   "outputs": [],
   "source": [
    "train_prediction.shape"
   ]
  },
  {
   "cell_type": "code",
   "execution_count": null,
   "metadata": {},
   "outputs": [],
   "source": [
    "validation_data, validation_meta = checker.load_validation_dataset()\n",
    "validation_prediction = checker.predict(validation_data)"
   ]
  },
  {
   "cell_type": "code",
   "execution_count": null,
   "metadata": {},
   "outputs": [],
   "source": [
    "validation_meta.head()"
   ]
  },
  {
   "cell_type": "code",
   "execution_count": null,
   "metadata": {},
   "outputs": [],
   "source": [
    "validation_meta.shape"
   ]
  },
  {
   "cell_type": "code",
   "execution_count": null,
   "metadata": {},
   "outputs": [],
   "source": [
    "validation_data.shape"
   ]
  },
  {
   "cell_type": "code",
   "execution_count": null,
   "metadata": {},
   "outputs": [],
   "source": [
    "validation_prediction.shape"
   ]
  },
  {
   "cell_type": "code",
   "execution_count": null,
   "metadata": {},
   "outputs": [],
   "source": [
    "def plot_train_index(index: int):\n",
    "    \"\"\"Helper function to plot a sample from the train dataset.\n",
    "    \"\"\"\n",
    "    true_signal = train_data[index]\n",
    "    predicted_signal = train_prediction[index]\n",
    "    metadata_row = train_meta.iloc[index]\n",
    "    print(f\"index: {index}\")\n",
    "    print(f\"Error: {train_error[index]}\")\n",
    "    print(metadata_row)\n",
    "    checker.plot_sample(metadata_row, true_signal, predicted_signal)\n",
    "    plt.show()\n",
    "    encoded = checker.encode(true_signal)\n",
    "    plt.imshow(encoded)\n",
    "    plt.show()"
   ]
  },
  {
   "cell_type": "code",
   "execution_count": null,
   "metadata": {},
   "outputs": [],
   "source": [
    "train_error = checker.MSE(train_data, train_prediction)\n",
    "checker.plot_error(train_error, bins=100)"
   ]
  },
  {
   "cell_type": "code",
   "execution_count": null,
   "metadata": {},
   "outputs": [],
   "source": [
    "validation_error = checker.MSE(validation_data, validation_prediction)\n",
    "checker.plot_error(validation_error, bins=100)"
   ]
  },
  {
   "cell_type": "code",
   "execution_count": null,
   "metadata": {},
   "outputs": [],
   "source": [
    "# Histogram peak\n",
    "hist, bins = np.histogram(train_error, bins=100)\n",
    "hist_peak = bins[np.argmax(hist)]"
   ]
  },
  {
   "cell_type": "code",
   "execution_count": null,
   "metadata": {},
   "outputs": [],
   "source": [
    "# plotting a random sample\n",
    "plot_train_index(0)"
   ]
  },
  {
   "cell_type": "code",
   "execution_count": null,
   "metadata": {},
   "outputs": [],
   "source": [
    "sorted_error_indices = np.argsort(train_error)"
   ]
  },
  {
   "cell_type": "markdown",
   "metadata": {},
   "source": [
    "# From left to right"
   ]
  },
  {
   "cell_type": "code",
   "execution_count": null,
   "metadata": {
    "scrolled": true
   },
   "outputs": [],
   "source": [
    "for i in range(10):\n",
    "    index = sorted_error_indices[i]\n",
    "    plot_train_index(index)"
   ]
  },
  {
   "cell_type": "markdown",
   "metadata": {},
   "source": [
    "# From right to left"
   ]
  },
  {
   "cell_type": "code",
   "execution_count": null,
   "metadata": {},
   "outputs": [],
   "source": [
    "for i in range(1, 51):\n",
    "    index = sorted_error_indices[-i]\n",
    "    plot_train_index(index)"
   ]
  },
  {
   "cell_type": "markdown",
   "metadata": {},
   "source": [
    "# Around the peak"
   ]
  },
  {
   "cell_type": "code",
   "execution_count": null,
   "metadata": {},
   "outputs": [],
   "source": [
    "error_around_peak = abs(train_error - hist_peak)\n",
    "sorted_error_indices_around_peak = np.argsort(error_around_peak)"
   ]
  },
  {
   "cell_type": "code",
   "execution_count": null,
   "metadata": {},
   "outputs": [],
   "source": [
    "for i in range(10):\n",
    "    index = sorted_error_indices_around_peak[i]\n",
    "    plot_train_index(index)"
   ]
  },
  {
   "cell_type": "markdown",
   "metadata": {},
   "source": [
    "# Around a point"
   ]
  },
  {
   "cell_type": "code",
   "execution_count": null,
   "metadata": {},
   "outputs": [],
   "source": [
    "# point = "
   ]
  },
  {
   "cell_type": "code",
   "execution_count": null,
   "metadata": {},
   "outputs": [],
   "source": [
    "# error_around_peak = abs(train_error - point)\n",
    "# sorted_error_indices_around_point = np.argsort(error_around_peak)"
   ]
  },
  {
   "cell_type": "code",
   "execution_count": null,
   "metadata": {},
   "outputs": [],
   "source": [
    "# for i in range(10):\n",
    "#     index = sorted_error_indices_around_point[i]\n",
    "#     plot_train_index(index)"
   ]
  },
  {
   "cell_type": "markdown",
   "metadata": {},
   "source": [
    "# Clustering"
   ]
  },
  {
   "cell_type": "code",
   "execution_count": null,
   "metadata": {},
   "outputs": [],
   "source": [
    "indices = sorted_error_indices[-np.arange(1, 1024+1)]\n",
    "encoding_true = train_data[indices]\n",
    "encoding_pred = train_prediction[indices]\n",
    "encoding_meta = train_meta.iloc[indices]\n",
    "try:\n",
    "    encoded = checker.encode(encoding_true)\n",
    "except:\n",
    "    encoded = np.array(checker.encoder(encoding_true)).squeeze()\n",
    "encoded_2d = encoded.reshape(encoded.shape[0], -1)"
   ]
  },
  {
   "cell_type": "code",
   "execution_count": null,
   "metadata": {},
   "outputs": [],
   "source": [
    "encoded_2d.shape"
   ]
  },
  {
   "cell_type": "code",
   "execution_count": null,
   "metadata": {},
   "outputs": [],
   "source": [
    "print(encoded_2d[0])"
   ]
  },
  {
   "cell_type": "code",
   "execution_count": null,
   "metadata": {},
   "outputs": [],
   "source": [
    "encoded_2d.min()"
   ]
  },
  {
   "cell_type": "code",
   "execution_count": null,
   "metadata": {},
   "outputs": [],
   "source": [
    "encoded_2d.max()"
   ]
  },
  {
   "cell_type": "code",
   "execution_count": null,
   "metadata": {},
   "outputs": [],
   "source": [
    "def plot_clusters(cluster_indices):\n",
    "    fig, axes = plt.subplots(encoding_true.shape[2], 1, figsize=(12, 3))\n",
    "    if not isinstance(axes, np.ndarray):\n",
    "        axes = np.array([axes])\n",
    "    for i in range(encoding_true.shape[2]):\n",
    "        axes[i].plot(encoding_true[cluster_indices][:,:, i].T,\n",
    "                     linewidth=0,\n",
    "                     marker=',',\n",
    "                     alpha=0.5)\n",
    "    return fig, axes\n",
    "\n",
    "def plot_cluster_imgs(cluster_indices):\n",
    "    fig, axes = plt.subplots(1, len(cluster_indices))\n",
    "    if not isinstance(axes, np.ndarray):\n",
    "        axes = np.array([axes])\n",
    "    for i, img in enumerate(encoded[cluster_indices]):\n",
    "        axes[i].imshow(img)\n",
    "    return fig, axes\n",
    "\n",
    "def plot_clusters_grid(cluster_indices):\n",
    "    grid_size = int(np.sqrt(len(cluster_indices)))\n",
    "    fig, axes = plt.subplots(grid_size, grid_size, figsize=(6, 6))\n",
    "    if not isinstance(axes, np.ndarray):\n",
    "        axes = np.array([axes])\n",
    "    axes = axes.flatten()\n",
    "    for i in range(len(axes)):\n",
    "        axes[i].plot(encoding_true[cluster_indices[i]], linewidth=0, marker=',')\n",
    "    return fig, axes\n",
    "\n",
    "def plot_cluster_imgs_grid(cluster_indices):\n",
    "    grid_size = int(np.sqrt(len(cluster_indices)))\n",
    "    fig, axes = plt.subplots(grid_size, grid_size, figsize=(6, 6))\n",
    "    if not isinstance(axes, np.ndarray):\n",
    "        axes = np.array([axes])\n",
    "    axes = axes.flatten()\n",
    "    for i in range(len(axes)):\n",
    "        axes[i].imshow(encoded[cluster_indices[i]])\n",
    "    return fig, axes\n",
    "\n",
    "def plot_avg_encoding(cluster_indices):\n",
    "    plt.imshow(encoded[cluster_indices].mean(axis=0))"
   ]
  },
  {
   "cell_type": "code",
   "execution_count": null,
   "metadata": {},
   "outputs": [],
   "source": [
    "import sklearn\n",
    "from sklearn.manifold import TSNE"
   ]
  },
  {
   "cell_type": "code",
   "execution_count": null,
   "metadata": {},
   "outputs": [],
   "source": [
    "for perplexity in [10, 30]:\n",
    "    tsne = TSNE(perplexity=perplexity)\n",
    "    encoded_2d_tsne = tsne.fit_transform(encoded_2d)\n",
    "    plt.scatter(encoded_2d_tsne[:, 0], encoded_2d_tsne[:, 1], marker='.', s=2)\n",
    "    plt.title(f\"perp={perplexity}\")\n",
    "    plt.show()"
   ]
  },
  {
   "cell_type": "code",
   "execution_count": null,
   "metadata": {},
   "outputs": [],
   "source": [
    "tsne = TSNE(perplexity=30)\n",
    "encoded_2d_tsne = tsne.fit_transform(encoded_2d)"
   ]
  },
  {
   "cell_type": "code",
   "execution_count": null,
   "metadata": {},
   "outputs": [],
   "source": [
    "from sklearn.decomposition import PCA\n",
    "\n",
    "pca = PCA(n_components=8)\n",
    "encoded_2d_pca = pca.fit_transform(encoded_2d)\n",
    "plt.scatter(encoded_2d_pca[:, 0], encoded_2d_pca[:, 1], marker='.', s=4)"
   ]
  },
  {
   "cell_type": "code",
   "execution_count": null,
   "metadata": {},
   "outputs": [],
   "source": [
    "pca.explained_variance_ratio_.sum()"
   ]
  },
  {
   "cell_type": "code",
   "execution_count": null,
   "metadata": {},
   "outputs": [],
   "source": [
    "from sklearn.cluster import KMeans\n",
    "from yellowbrick.cluster import KElbowVisualizer\n",
    "import matplotlib as mpl\n",
    "mpl.style.use(\"default\")"
   ]
  },
  {
   "cell_type": "code",
   "execution_count": null,
   "metadata": {},
   "outputs": [],
   "source": [
    "kmeans = KMeans()\n",
    "viz = KElbowVisualizer(kmeans, k=(2, 64))\n",
    "viz.fit(encoded_2d_pca)\n",
    "viz.show()"
   ]
  },
  {
   "cell_type": "code",
   "execution_count": null,
   "metadata": {},
   "outputs": [],
   "source": [
    "kmeans = KMeans(n_clusters=viz.elbow_value_)\n",
    "clustering = kmeans.fit(encoded_2d_pca)\n",
    "print('-------------')\n",
    "print(\"n_clusters:\", viz.elbow_value_)\n",
    "for cluster in np.unique(clustering.labels_):\n",
    "    cluster_indices = np.where(clustering.labels_ == cluster)[0]\n",
    "    print(\"cluster\", cluster)\n",
    "    print(f\"N samples: {len(cluster_indices)}\")\n",
    "    cluster_indices = np.random.choice(cluster_indices,\n",
    "                                   min(8, len(cluster_indices)))\n",
    "    \n",
    "    fig, axes = plot_clusters(cluster_indices)\n",
    "    plt.show()\n",
    "    \n",
    "    fig, axes = plot_cluster_imgs(cluster_indices)\n",
    "    plt.show()"
   ]
  },
  {
   "cell_type": "code",
   "execution_count": null,
   "metadata": {},
   "outputs": [],
   "source": [
    "# from sklearn.cluster import DBSCAN\n",
    "# dbscan = DBSCAN(eps=4)\n",
    "# clustering = dbscan.fit(encoded_2d_tsne)\n",
    "# sc = plt.scatter(encoded_2d_tsne[:, 0], encoded_2d_tsne[:, 1], marker='.', s=2, c=clustering.labels_, cmap='tab10')\n",
    "# plt.legend(*sc.legend_elements())\n",
    "# plt.show()\n",
    "# for cluster in np.unique(clustering.labels_):\n",
    "#     cluster_indices = np.where(clustering.labels_ == cluster)[0]\n",
    "#     print(\"cluster\", cluster)\n",
    "#     fig, axes = plot_clusters(cluster_indices)\n",
    "#     plt.show()\n",
    "#     plot_avg_encoding(cluster_indices)\n",
    "#     plt.show()"
   ]
  }
 ],
 "metadata": {
  "kernelspec": {
   "display_name": "Python 3",
   "language": "python",
   "name": "python3"
  },
  "language_info": {
   "codemirror_mode": {
    "name": "ipython",
    "version": 3
   },
   "file_extension": ".py",
   "mimetype": "text/x-python",
   "name": "python",
   "nbconvert_exporter": "python",
   "pygments_lexer": "ipython3",
   "version": "3.6.8"
  }
 },
 "nbformat": 4,
 "nbformat_minor": 4
}
