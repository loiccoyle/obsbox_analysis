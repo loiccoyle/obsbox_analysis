{
 "cells": [
  {
   "cell_type": "code",
   "execution_count": 1,
   "metadata": {},
   "outputs": [],
   "source": [
    "from paths import models_folder, metadata_folder"
   ]
  },
  {
   "cell_type": "code",
   "execution_count": 2,
   "metadata": {},
   "outputs": [],
   "source": [
    "from pyobsbox import ObsBoxGenerator"
   ]
  },
  {
   "cell_type": "code",
   "execution_count": 3,
   "metadata": {},
   "outputs": [],
   "source": [
    "import logging\n",
    "import keras\n",
    "import json\n",
    "import matplotlib.pyplot as plt\n",
    "import pandas as pd\n",
    "import numpy as np\n",
    "from tqdm.auto import tqdm"
   ]
  },
  {
   "cell_type": "code",
   "execution_count": 4,
   "metadata": {},
   "outputs": [],
   "source": [
    "logging.getLogger(\"pyobsbox\").setLevel(logging.INFO)"
   ]
  },
  {
   "cell_type": "markdown",
   "metadata": {},
   "source": [
    "# List models"
   ]
  },
  {
   "cell_type": "code",
   "execution_count": 5,
   "metadata": {},
   "outputs": [
    {
     "data": {
      "text/plain": [
       "[PosixPath('/afs/cern.ch/work/l/lcoyle/public/obsbox_analysis/models/model_B1H_Inst_20756'),\n",
       " PosixPath('/afs/cern.ch/work/l/lcoyle/public/obsbox_analysis/models/model_B1H_Inst_1024'),\n",
       " PosixPath('/afs/cern.ch/work/l/lcoyle/public/obsbox_analysis/models/model_B1H_Inst_1'),\n",
       " PosixPath('/afs/cern.ch/work/l/lcoyle/public/obsbox_analysis/models/model_B1H_Inst_20608'),\n",
       " PosixPath('/afs/cern.ch/work/l/lcoyle/public/obsbox_analysis/models/model_time_dist_32_16_B1H_Inst_500'),\n",
       " PosixPath('/afs/cern.ch/work/l/lcoyle/public/obsbox_analysis/models/model_conv_64_8_B1H_Inst_252'),\n",
       " PosixPath('/afs/cern.ch/work/l/lcoyle/public/obsbox_analysis/models/model_conv_64_16_8_stride_4_B1H_Inst_253')]"
      ]
     },
     "execution_count": 5,
     "metadata": {},
     "output_type": "execute_result"
    }
   ],
   "source": [
    "list(models_folder.glob('model_*'))"
   ]
  },
  {
   "cell_type": "code",
   "execution_count": 6,
   "metadata": {},
   "outputs": [],
   "source": [
    "model_path = models_folder / \"model_conv_64_16_8_stride_4_B1H_Inst_253\"\n",
    "# For this model I use multiprocessing to train and it broke my \"seen indices\" \n",
    "# I'll be using the train/validation split"
   ]
  },
  {
   "cell_type": "markdown",
   "metadata": {},
   "source": [
    "# Load model and associated generators"
   ]
  },
  {
   "cell_type": "code",
   "execution_count": 7,
   "metadata": {},
   "outputs": [
    {
     "name": "stdout",
     "output_type": "stream",
     "text": [
      "Model: \"sequential\"\n",
      "_________________________________________________________________\n",
      "Layer (type)                 Output Shape              Param #   \n",
      "=================================================================\n",
      "conv1d (Conv1D)              (None, 512, 64)           512       \n",
      "_________________________________________________________________\n",
      "dropout (Dropout)            (None, 512, 64)           0         \n",
      "_________________________________________________________________\n",
      "conv1d_1 (Conv1D)            (None, 128, 16)           7184      \n",
      "_________________________________________________________________\n",
      "dropout_1 (Dropout)          (None, 128, 16)           0         \n",
      "_________________________________________________________________\n",
      "conv1d_2 (Conv1D)            (None, 32, 8)             904       \n",
      "_________________________________________________________________\n",
      "conv1d_transpose (Conv1DTran (None, 128, 8)            456       \n",
      "_________________________________________________________________\n",
      "dropout_2 (Dropout)          (None, 128, 8)            0         \n",
      "_________________________________________________________________\n",
      "conv1d_transpose_1 (Conv1DTr (None, 512, 16)           912       \n",
      "_________________________________________________________________\n",
      "dropout_3 (Dropout)          (None, 512, 16)           0         \n",
      "_________________________________________________________________\n",
      "conv1d_transpose_2 (Conv1DTr (None, 2048, 64)          7232      \n",
      "_________________________________________________________________\n",
      "conv1d_transpose_3 (Conv1DTr (None, 2048, 1)           449       \n",
      "=================================================================\n",
      "Total params: 17,649\n",
      "Trainable params: 17,649\n",
      "Non-trainable params: 0\n",
      "_________________________________________________________________\n"
     ]
    },
    {
     "name": "stderr",
     "output_type": "stream",
     "text": [
      "Dec/11 21:40:21 pyobsbox.generator INFO: metadata_path: /afs/cern.ch/work/l/lcoyle/public/obsbox_analysis/metadata/metadata_B1H_Inst_34994.h5\n",
      "Dec/11 21:40:21 pyobsbox.generator INFO: batch_size: 8192\n",
      "Dec/11 21:40:21 pyobsbox.generator INFO: sequence_length: 2048\n",
      "Dec/11 21:40:21 pyobsbox.generator INFO: n_bunches: 256\n",
      "Dec/11 21:40:21 pyobsbox.generator INFO: __len__: 41222\n",
      "Dec/11 21:40:22 pyobsbox.generator INFO: metadata_path: /afs/cern.ch/work/l/lcoyle/public/obsbox_analysis/metadata/metadata_B1H_Inst_34994.h5\n",
      "Dec/11 21:40:22 pyobsbox.generator INFO: batch_size: 8192\n",
      "Dec/11 21:40:22 pyobsbox.generator INFO: sequence_length: 2048\n",
      "Dec/11 21:40:22 pyobsbox.generator INFO: n_bunches: 256\n",
      "Dec/11 21:40:22 pyobsbox.generator INFO: __len__: 4581\n"
     ]
    }
   ],
   "source": [
    "model = keras.models.load_model(model_path)\n",
    "model.summary()\n",
    "model_metadata = json.load((model_path / \"metadata.json\").open('r'))\n",
    "data_metadata_path = model_metadata[\"generator\"][\"metadata_path\"]\n",
    "\n",
    "# load the data metadata\n",
    "data_metadata_df = pd.read_hdf(data_metadata_path)\n",
    "\n",
    "# load the indices of the data seen by the model\n",
    "# train_seen_indices = np.load(model_path / \"train_seen_indices.npy\")\n",
    "# validation_seen_indices = np.load(model_path / \"validation_seen_indices.npy\")\n",
    "\n",
    "# train/validation split\n",
    "train_split_indices = np.load(model_path / \"train_split_indices.npy\")\n",
    "validation_split_indices = np.load(model_path / \"validation_split_indices.npy\")\n",
    "\n",
    "# load the data seen by the model\n",
    "train_metadata = data_metadata_df.iloc[train_split_indices]\n",
    "validation_metadata = data_metadata_df.iloc[validation_split_indices]\n",
    "\n",
    "# the training loss history\n",
    "hist = model_metadata[\"history\"]\n",
    "\n",
    "# remove shuffling\n",
    "model_metadata[\"generator\"][\"shuffle\"] = True  # True because I don't have the seen values indices\n",
    "# create the generators\n",
    "train_generator = ObsBoxGenerator(train_metadata,\n",
    "                                  **model_metadata[\"generator\"])\n",
    "validation_generator = ObsBoxGenerator(validation_metadata,\n",
    "                                       **model_metadata[\"generator\"])"
   ]
  },
  {
   "cell_type": "code",
   "execution_count": 8,
   "metadata": {},
   "outputs": [
    {
     "name": "stdout",
     "output_type": "stream",
     "text": [
      "(10552772, 11)\n"
     ]
    },
    {
     "data": {
      "text/html": [
       "<div>\n",
       "<style scoped>\n",
       "    .dataframe tbody tr th:only-of-type {\n",
       "        vertical-align: middle;\n",
       "    }\n",
       "\n",
       "    .dataframe tbody tr th {\n",
       "        vertical-align: top;\n",
       "    }\n",
       "\n",
       "    .dataframe thead th {\n",
       "        text-align: right;\n",
       "    }\n",
       "</style>\n",
       "<table border=\"1\" class=\"dataframe\">\n",
       "  <thead>\n",
       "    <tr style=\"text-align: right;\">\n",
       "      <th></th>\n",
       "      <th>type</th>\n",
       "      <th>fill</th>\n",
       "      <th>beam</th>\n",
       "      <th>plane</th>\n",
       "      <th>q</th>\n",
       "      <th>date_time</th>\n",
       "      <th>file</th>\n",
       "      <th>n_bunches</th>\n",
       "      <th>bunch_index</th>\n",
       "      <th>bunch_number</th>\n",
       "      <th>ts_length</th>\n",
       "    </tr>\n",
       "  </thead>\n",
       "  <tbody>\n",
       "    <tr>\n",
       "      <th>1</th>\n",
       "      <td>Inst</td>\n",
       "      <td>7478</td>\n",
       "      <td>1</td>\n",
       "      <td>h</td>\n",
       "      <td>7</td>\n",
       "      <td>2018-11-27 14:49:16</td>\n",
       "      <td>/nfs/cs-ccr-adtobsnfs/lhc_adtobsbox_data/7478/...</td>\n",
       "      <td>20</td>\n",
       "      <td>0.0</td>\n",
       "      <td>0.0</td>\n",
       "      <td>65536</td>\n",
       "    </tr>\n",
       "    <tr>\n",
       "      <th>2</th>\n",
       "      <td>Inst</td>\n",
       "      <td>7478</td>\n",
       "      <td>1</td>\n",
       "      <td>h</td>\n",
       "      <td>7</td>\n",
       "      <td>2018-11-27 14:49:16</td>\n",
       "      <td>/nfs/cs-ccr-adtobsnfs/lhc_adtobsbox_data/7478/...</td>\n",
       "      <td>20</td>\n",
       "      <td>4.0</td>\n",
       "      <td>1.0</td>\n",
       "      <td>65536</td>\n",
       "    </tr>\n",
       "    <tr>\n",
       "      <th>3</th>\n",
       "      <td>Inst</td>\n",
       "      <td>7478</td>\n",
       "      <td>1</td>\n",
       "      <td>h</td>\n",
       "      <td>7</td>\n",
       "      <td>2018-11-27 14:49:16</td>\n",
       "      <td>/nfs/cs-ccr-adtobsnfs/lhc_adtobsbox_data/7478/...</td>\n",
       "      <td>20</td>\n",
       "      <td>8.0</td>\n",
       "      <td>2.0</td>\n",
       "      <td>65536</td>\n",
       "    </tr>\n",
       "    <tr>\n",
       "      <th>4</th>\n",
       "      <td>Inst</td>\n",
       "      <td>7478</td>\n",
       "      <td>1</td>\n",
       "      <td>h</td>\n",
       "      <td>7</td>\n",
       "      <td>2018-11-27 14:49:16</td>\n",
       "      <td>/nfs/cs-ccr-adtobsnfs/lhc_adtobsbox_data/7478/...</td>\n",
       "      <td>20</td>\n",
       "      <td>12.0</td>\n",
       "      <td>3.0</td>\n",
       "      <td>65536</td>\n",
       "    </tr>\n",
       "    <tr>\n",
       "      <th>5</th>\n",
       "      <td>Inst</td>\n",
       "      <td>7478</td>\n",
       "      <td>1</td>\n",
       "      <td>h</td>\n",
       "      <td>7</td>\n",
       "      <td>2018-11-27 14:49:16</td>\n",
       "      <td>/nfs/cs-ccr-adtobsnfs/lhc_adtobsbox_data/7478/...</td>\n",
       "      <td>20</td>\n",
       "      <td>894.0</td>\n",
       "      <td>4.0</td>\n",
       "      <td>65536</td>\n",
       "    </tr>\n",
       "  </tbody>\n",
       "</table>\n",
       "</div>"
      ],
      "text/plain": [
       "   type  fill  beam plane  q           date_time  \\\n",
       "1  Inst  7478     1     h  7 2018-11-27 14:49:16   \n",
       "2  Inst  7478     1     h  7 2018-11-27 14:49:16   \n",
       "3  Inst  7478     1     h  7 2018-11-27 14:49:16   \n",
       "4  Inst  7478     1     h  7 2018-11-27 14:49:16   \n",
       "5  Inst  7478     1     h  7 2018-11-27 14:49:16   \n",
       "\n",
       "                                                file  n_bunches  bunch_index  \\\n",
       "1  /nfs/cs-ccr-adtobsnfs/lhc_adtobsbox_data/7478/...         20          0.0   \n",
       "2  /nfs/cs-ccr-adtobsnfs/lhc_adtobsbox_data/7478/...         20          4.0   \n",
       "3  /nfs/cs-ccr-adtobsnfs/lhc_adtobsbox_data/7478/...         20          8.0   \n",
       "4  /nfs/cs-ccr-adtobsnfs/lhc_adtobsbox_data/7478/...         20         12.0   \n",
       "5  /nfs/cs-ccr-adtobsnfs/lhc_adtobsbox_data/7478/...         20        894.0   \n",
       "\n",
       "   bunch_number  ts_length  \n",
       "1           0.0      65536  \n",
       "2           1.0      65536  \n",
       "3           2.0      65536  \n",
       "4           3.0      65536  \n",
       "5           4.0      65536  "
      ]
     },
     "execution_count": 8,
     "metadata": {},
     "output_type": "execute_result"
    }
   ],
   "source": [
    "print(train_metadata.shape)\n",
    "train_metadata.head()"
   ]
  },
  {
   "cell_type": "code",
   "execution_count": 9,
   "metadata": {},
   "outputs": [],
   "source": [
    "# print(validation_metadata.shape)\n",
    "# validation_metadata.head()"
   ]
  },
  {
   "cell_type": "markdown",
   "metadata": {},
   "source": [
    "# Loss functions"
   ]
  },
  {
   "cell_type": "code",
   "execution_count": 10,
   "metadata": {},
   "outputs": [
    {
     "data": {
      "text/plain": [
       "<matplotlib.legend.Legend at 0x7f08a06930b8>"
      ]
     },
     "execution_count": 10,
     "metadata": {},
     "output_type": "execute_result"
    },
    {
     "data": {
      "image/png": "[encoded data removed]",
      "text/plain": [
       "<Figure size 432x288 with 1 Axes>"
      ]
     },
     "metadata": {
      "needs_background": "light"
     },
     "output_type": "display_data"
    }
   ],
   "source": [
    "plt.plot(hist['loss'], label='training loss')\n",
    "plt.plot(hist['val_loss'], label='validation loss')\n",
    "plt.legend()"
   ]
  },
  {
   "cell_type": "markdown",
   "metadata": {},
   "source": [
    "# Datasets"
   ]
  },
  {
   "cell_type": "markdown",
   "metadata": {},
   "source": [
    "Load the first few batches"
   ]
  },
  {
   "cell_type": "code",
   "execution_count": null,
   "metadata": {},
   "outputs": [
    {
     "data": {
      "application/vnd.jupyter.widget-view+json": {
       "model_id": "9951d593f3144925ad9d25e2ae812e62",
       "version_major": 2,
       "version_minor": 0
      },
      "text/plain": [
       "HBox(children=(HTML(value=''), FloatProgress(value=0.0, max=50.0), HTML(value='')))"
      ]
     },
     "metadata": {},
     "output_type": "display_data"
    }
   ],
   "source": [
    "train_dataset = np.vstack([train_generator[i][0] for i in tqdm(range(50))])\n",
    "train_dataset.shape"
   ]
  },
  {
   "cell_type": "code",
   "execution_count": null,
   "metadata": {},
   "outputs": [],
   "source": [
    "# validation_dataset = np.vstack([validation_generator[i][0] for i in tqdm(range(5))])\n",
    "# validation_dataset.shape"
   ]
  },
  {
   "cell_type": "markdown",
   "metadata": {},
   "source": [
    "# Predictions"
   ]
  },
  {
   "cell_type": "code",
   "execution_count": null,
   "metadata": {},
   "outputs": [],
   "source": [
    "train_pred = model.predict(train_dataset, verbose=1, batch_size=train_generator.batch_size)\n",
    "train_pred.shape"
   ]
  },
  {
   "cell_type": "code",
   "execution_count": null,
   "metadata": {},
   "outputs": [],
   "source": [
    "# validation_pred = model.predict(validation_dataset, verbose=1, batch_size=validation_generator.batch_size)\n",
    "# validation_pred.shape"
   ]
  },
  {
   "cell_type": "code",
   "execution_count": null,
   "metadata": {},
   "outputs": [],
   "source": [
    "MAE_train = abs(train_pred - train_dataset).mean(axis=1).squeeze()\n",
    "MAE_train.shape"
   ]
  },
  {
   "cell_type": "code",
   "execution_count": null,
   "metadata": {},
   "outputs": [],
   "source": [
    "# MAE_validation = abs(validation_pred - validation_dataset).mean(axis=1).squeeze()\n",
    "# MAE_validation.shape"
   ]
  },
  {
   "cell_type": "code",
   "execution_count": null,
   "metadata": {},
   "outputs": [],
   "source": [
    "plt.figure(figsize=(9, 6))\n",
    "n, bins, _ = plt.hist(MAE_train, bins=100)\n",
    "plt.title(\"train dataset\")\n",
    "# plt.yscale('log')"
   ]
  },
  {
   "cell_type": "markdown",
   "metadata": {},
   "source": [
    "rough peak"
   ]
  },
  {
   "cell_type": "code",
   "execution_count": null,
   "metadata": {},
   "outputs": [],
   "source": [
    "hist_peak_train = bins[n.argmax()]\n",
    "hist_peak_train"
   ]
  },
  {
   "cell_type": "code",
   "execution_count": null,
   "metadata": {},
   "outputs": [],
   "source": [
    "# plt.figure(figsize=(9, 6))\n",
    "# n, bins, _ = plt.hist(MAE_validation, bins=100)\n",
    "# plt.title(\"validation dataset\")"
   ]
  },
  {
   "cell_type": "code",
   "execution_count": null,
   "metadata": {},
   "outputs": [],
   "source": [
    "# hist_peak_validation = bins[n.argmax()]\n",
    "# hist_peak_validation"
   ]
  },
  {
   "cell_type": "code",
   "execution_count": null,
   "metadata": {},
   "outputs": [],
   "source": [
    "max_MAE_indices = np.argsort(MAE_train)[::-1]"
   ]
  },
  {
   "cell_type": "code",
   "execution_count": null,
   "metadata": {},
   "outputs": [],
   "source": [
    "max_MAE_indices"
   ]
  },
  {
   "cell_type": "code",
   "execution_count": null,
   "metadata": {},
   "outputs": [],
   "source": [
    "def plot_true_pred(true_signal, pred_signal):\n",
    "    fig, axes = plt.subplots(2, figsize=(16, 6))\n",
    "    axes[0].plot(true_signal)\n",
    "    axes[0].plot(pred_signal)\n",
    "\n",
    "    axes[1].plot(np.abs(np.diff(true_signal)))\n",
    "    axes[1].plot(np.abs(np.diff(pred_signal)))\n",
    "    return fig, axes"
   ]
  },
  {
   "cell_type": "code",
   "execution_count": null,
   "metadata": {},
   "outputs": [],
   "source": [
    "anomalous = 0\n",
    "anomalous_index = max_MAE_indices[anomalous]\n",
    "\n",
    "print('index: ', anomalous_index)\n",
    "print(\"MAE: \", MAE_train[anomalous_index])\n",
    "# I'm not sure this row is correct\n",
    "metadata_row = train_generator.metadata.iloc[anomalous_index // 32]\n",
    "print(metadata_row[['n_bunches', 'bunch_index', 'bunch_number']])\n",
    "print(metadata_row['file'])\n",
    "\n",
    "true_signal = train_dataset[anomalous_index].squeeze()\n",
    "pred_signal = train_pred[anomalous_index].squeeze()\n",
    "\n",
    "plot_true_pred(true_signal, pred_signal);"
   ]
  },
  {
   "cell_type": "markdown",
   "metadata": {},
   "source": [
    "# Top rightmost signals"
   ]
  },
  {
   "cell_type": "code",
   "execution_count": null,
   "metadata": {
    "scrolled": true
   },
   "outputs": [],
   "source": [
    "for i in range(200):\n",
    "    anomalous = i\n",
    "    anomalous_index = max_MAE_indices[anomalous]\n",
    "\n",
    "    print('index: ', anomalous_index)\n",
    "    print(\"MAE: \", MAE_train[anomalous_index])\n",
    "    # I'm not sure this row is correct\n",
    "    metadata_row = train_generator.metadata.iloc[anomalous_index // 32]\n",
    "    print(metadata_row[['n_bunches', 'bunch_index', 'bunch_number']])\n",
    "    print(metadata_row['file'])\n",
    "\n",
    "    true_signal = train_dataset[anomalous_index].squeeze()\n",
    "    pred_signal = train_pred[anomalous_index].squeeze()\n",
    "\n",
    "    plot_true_pred(true_signal, pred_signal)\n",
    "    plt.show()"
   ]
  },
  {
   "cell_type": "markdown",
   "metadata": {},
   "source": [
    "# Top leftmost signals"
   ]
  },
  {
   "cell_type": "code",
   "execution_count": null,
   "metadata": {
    "scrolled": true
   },
   "outputs": [],
   "source": [
    "for i in range(1, 101):\n",
    "    left_most = -i\n",
    "    left_most_index = max_MAE_indices[left_most]\n",
    "\n",
    "    print('index: ', left_most_index)\n",
    "    print(\"MAE: \", MAE_train[left_most_index])\n",
    "    # I'm not sure this row is correct\n",
    "    metadata_row = train_generator.metadata.iloc[left_most_index // 32]\n",
    "    print(metadata_row[['n_bunches', 'bunch_index', 'bunch_number']])\n",
    "    print(metadata_row['file'])\n",
    "\n",
    "\n",
    "    true_signal = train_dataset[left_most_index].squeeze()\n",
    "    pred_signal = train_pred[left_most_index].squeeze()\n",
    "\n",
    "    plot_true_pred(true_signal, pred_signal)\n",
    "    plt.show()"
   ]
  },
  {
   "cell_type": "markdown",
   "metadata": {},
   "source": [
    "# Signals around the peak"
   ]
  },
  {
   "cell_type": "code",
   "execution_count": null,
   "metadata": {},
   "outputs": [],
   "source": [
    "around_peak_indices = np.argsort(np.abs(MAE_train - hist_peak_train))"
   ]
  },
  {
   "cell_type": "code",
   "execution_count": null,
   "metadata": {
    "scrolled": true
   },
   "outputs": [],
   "source": [
    "for i in range(10):\n",
    "    around_peak_index = around_peak_indices[i]\n",
    "\n",
    "    print('index: ', around_peak_index)\n",
    "    print(\"MAE: \", MAE_train[around_peak_index])\n",
    "    # I'm not sure this row is correct\n",
    "    metadata_row = train_generator.metadata.iloc[around_peak_index // 32]\n",
    "    print(metadata_row[['n_bunches', 'bunch_index', 'bunch_number']])\n",
    "    print(metadata_row['file'])\n",
    "\n",
    "    true_signal = train_dataset[around_peak_index].squeeze()\n",
    "    pred_signal = train_pred[around_peak_index].squeeze()\n",
    "\n",
    "    plot_true_pred(true_signal, pred_signal)\n",
    "    plt.show()"
   ]
  },
  {
   "cell_type": "markdown",
   "metadata": {},
   "source": [
    "# around a point"
   ]
  },
  {
   "cell_type": "code",
   "execution_count": null,
   "metadata": {},
   "outputs": [],
   "source": [
    "around_point_indices = np.argsort(np.abs(MAE_train - 0.27))"
   ]
  },
  {
   "cell_type": "code",
   "execution_count": null,
   "metadata": {},
   "outputs": [],
   "source": [
    "for i in range(10):\n",
    "    around_point_index = around_point_indices[i]\n",
    "\n",
    "    print('index: ', around_point_index)\n",
    "    print(\"MAE: \", MAE_train[around_point_index])\n",
    "    # I'm not sure this row is correct\n",
    "    metadata_row = train_generator.metadata.iloc[around_point_index // 32]\n",
    "    print(metadata_row[['n_bunches', 'bunch_index', 'bunch_number']])\n",
    "    print(metadata_row['file'])\n",
    "\n",
    "    true_signal = train_dataset[around_point_index].squeeze()\n",
    "    pred_signal = train_pred[around_point_index].squeeze()\n",
    "\n",
    "    plot_true_pred(true_signal, pred_signal)\n",
    "    plt.show()"
   ]
  }
 ],
 "metadata": {
  "kernelspec": {
   "display_name": "Python 3",
   "language": "python",
   "name": "python3"
  },
  "language_info": {
   "codemirror_mode": {
    "name": "ipython",
    "version": 3
   },
   "file_extension": ".py",
   "mimetype": "text/x-python",
   "name": "python",
   "nbconvert_exporter": "python",
   "pygments_lexer": "ipython3",
   "version": "3.6.8"
  }
 },
 "nbformat": 4,
 "nbformat_minor": 4
}
