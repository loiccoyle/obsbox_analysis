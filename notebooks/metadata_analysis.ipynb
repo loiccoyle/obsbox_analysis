{
 "cells": [
  {
   "cell_type": "code",
   "execution_count": 1,
   "metadata": {},
   "outputs": [],
   "source": [
    "from paths import metadata_folder"
   ]
  },
  {
   "cell_type": "code",
   "execution_count": 2,
   "metadata": {},
   "outputs": [],
   "source": [
    "import numpy as np\n",
    "import pandas as pd\n",
    "import matplotlib.pyplot as plt"
   ]
  },
  {
   "cell_type": "markdown",
   "metadata": {},
   "source": [
    "# List metadata files"
   ]
  },
  {
   "cell_type": "code",
   "execution_count": 3,
   "metadata": {},
   "outputs": [
    {
     "data": {
      "text/plain": [
       "[PosixPath('/afs/cern.ch/work/l/lcoyle/public/obsbox_analysis/metadata/metadata_B2H_Inst_23528.h5'),\n",
       " PosixPath('/afs/cern.ch/work/l/lcoyle/public/obsbox_analysis/metadata/metadata_B1H_Inst_32.h5'),\n",
       " PosixPath('/afs/cern.ch/work/l/lcoyle/public/obsbox_analysis/metadata/metadata_B1H_Inst_1024.h5'),\n",
       " PosixPath('/afs/cern.ch/work/l/lcoyle/public/obsbox_analysis/metadata/metadata_B1H_Inst_34994.h5'),\n",
       " PosixPath('/afs/cern.ch/work/l/lcoyle/public/obsbox_analysis/metadata/metadata_B1V_Inst_51335.h5'),\n",
       " PosixPath('/afs/cern.ch/work/l/lcoyle/public/obsbox_analysis/metadata/metadata_B2V_Inst_60652.h5')]"
      ]
     },
     "execution_count": 3,
     "metadata": {},
     "output_type": "execute_result"
    }
   ],
   "source": [
    "list(metadata_folder.glob(\"metadata_*\"))"
   ]
  },
  {
   "cell_type": "markdown",
   "metadata": {},
   "source": [
    "I'm taking all the partial metadata files for the Instability data type and combining them all."
   ]
  },
  {
   "cell_type": "code",
   "execution_count": 4,
   "metadata": {},
   "outputs": [],
   "source": [
    "partial_metadata_files = {\"B1H\": metadata_folder / \"metadata_B1H_Inst_34994.h5\",\n",
    "                          \"B1V\": metadata_folder / \"metadata_B1V_Inst_51335.h5\",\n",
    "                          \"B2H\": metadata_folder / \"metadata_B2H_Inst_23528.h5\",\n",
    "                          \"B2V\": metadata_folder / \"metadata_B2V_Inst_60652.h5\"}"
   ]
  },
  {
   "cell_type": "code",
   "execution_count": 5,
   "metadata": {},
   "outputs": [],
   "source": [
    "partial_meta_dfs = {key: pd.read_hdf(file_path) for key, file_path in partial_metadata_files.items()}"
   ]
  },
  {
   "cell_type": "code",
   "execution_count": 6,
   "metadata": {},
   "outputs": [
    {
     "data": {
      "text/plain": [
       "(57317564, 11)"
      ]
     },
     "execution_count": 6,
     "metadata": {},
     "output_type": "execute_result"
    }
   ],
   "source": [
    "meta_df = pd.concat(partial_meta_dfs.values())\n",
    "meta_df.shape"
   ]
  },
  {
   "cell_type": "code",
   "execution_count": 7,
   "metadata": {},
   "outputs": [
    {
     "data": {
      "text/html": [
       "<div>\n",
       "<style scoped>\n",
       "    .dataframe tbody tr th:only-of-type {\n",
       "        vertical-align: middle;\n",
       "    }\n",
       "\n",
       "    .dataframe tbody tr th {\n",
       "        vertical-align: top;\n",
       "    }\n",
       "\n",
       "    .dataframe thead th {\n",
       "        text-align: right;\n",
       "    }\n",
       "</style>\n",
       "<table border=\"1\" class=\"dataframe\">\n",
       "  <thead>\n",
       "    <tr style=\"text-align: right;\">\n",
       "      <th></th>\n",
       "      <th>type</th>\n",
       "      <th>fill</th>\n",
       "      <th>beam</th>\n",
       "      <th>plane</th>\n",
       "      <th>q</th>\n",
       "      <th>date_time</th>\n",
       "      <th>file</th>\n",
       "      <th>n_bunches</th>\n",
       "      <th>bunch_index</th>\n",
       "      <th>bunch_number</th>\n",
       "      <th>ts_length</th>\n",
       "    </tr>\n",
       "  </thead>\n",
       "  <tbody>\n",
       "    <tr>\n",
       "      <th>1</th>\n",
       "      <td>Inst</td>\n",
       "      <td>7478</td>\n",
       "      <td>1</td>\n",
       "      <td>h</td>\n",
       "      <td>7</td>\n",
       "      <td>2018-11-27 14:49:16</td>\n",
       "      <td>/nfs/cs-ccr-adtobsnfs/lhc_adtobsbox_data/7478/...</td>\n",
       "      <td>20</td>\n",
       "      <td>0.0</td>\n",
       "      <td>0.0</td>\n",
       "      <td>65536</td>\n",
       "    </tr>\n",
       "    <tr>\n",
       "      <th>2</th>\n",
       "      <td>Inst</td>\n",
       "      <td>7478</td>\n",
       "      <td>1</td>\n",
       "      <td>h</td>\n",
       "      <td>7</td>\n",
       "      <td>2018-11-27 14:49:16</td>\n",
       "      <td>/nfs/cs-ccr-adtobsnfs/lhc_adtobsbox_data/7478/...</td>\n",
       "      <td>20</td>\n",
       "      <td>4.0</td>\n",
       "      <td>1.0</td>\n",
       "      <td>65536</td>\n",
       "    </tr>\n",
       "    <tr>\n",
       "      <th>3</th>\n",
       "      <td>Inst</td>\n",
       "      <td>7478</td>\n",
       "      <td>1</td>\n",
       "      <td>h</td>\n",
       "      <td>7</td>\n",
       "      <td>2018-11-27 14:49:16</td>\n",
       "      <td>/nfs/cs-ccr-adtobsnfs/lhc_adtobsbox_data/7478/...</td>\n",
       "      <td>20</td>\n",
       "      <td>8.0</td>\n",
       "      <td>2.0</td>\n",
       "      <td>65536</td>\n",
       "    </tr>\n",
       "    <tr>\n",
       "      <th>4</th>\n",
       "      <td>Inst</td>\n",
       "      <td>7478</td>\n",
       "      <td>1</td>\n",
       "      <td>h</td>\n",
       "      <td>7</td>\n",
       "      <td>2018-11-27 14:49:16</td>\n",
       "      <td>/nfs/cs-ccr-adtobsnfs/lhc_adtobsbox_data/7478/...</td>\n",
       "      <td>20</td>\n",
       "      <td>12.0</td>\n",
       "      <td>3.0</td>\n",
       "      <td>65536</td>\n",
       "    </tr>\n",
       "    <tr>\n",
       "      <th>5</th>\n",
       "      <td>Inst</td>\n",
       "      <td>7478</td>\n",
       "      <td>1</td>\n",
       "      <td>h</td>\n",
       "      <td>7</td>\n",
       "      <td>2018-11-27 14:49:16</td>\n",
       "      <td>/nfs/cs-ccr-adtobsnfs/lhc_adtobsbox_data/7478/...</td>\n",
       "      <td>20</td>\n",
       "      <td>894.0</td>\n",
       "      <td>4.0</td>\n",
       "      <td>65536</td>\n",
       "    </tr>\n",
       "  </tbody>\n",
       "</table>\n",
       "</div>"
      ],
      "text/plain": [
       "   type  fill  beam plane  q           date_time  \\\n",
       "1  Inst  7478     1     h  7 2018-11-27 14:49:16   \n",
       "2  Inst  7478     1     h  7 2018-11-27 14:49:16   \n",
       "3  Inst  7478     1     h  7 2018-11-27 14:49:16   \n",
       "4  Inst  7478     1     h  7 2018-11-27 14:49:16   \n",
       "5  Inst  7478     1     h  7 2018-11-27 14:49:16   \n",
       "\n",
       "                                                file  n_bunches  bunch_index  \\\n",
       "1  /nfs/cs-ccr-adtobsnfs/lhc_adtobsbox_data/7478/...         20          0.0   \n",
       "2  /nfs/cs-ccr-adtobsnfs/lhc_adtobsbox_data/7478/...         20          4.0   \n",
       "3  /nfs/cs-ccr-adtobsnfs/lhc_adtobsbox_data/7478/...         20          8.0   \n",
       "4  /nfs/cs-ccr-adtobsnfs/lhc_adtobsbox_data/7478/...         20         12.0   \n",
       "5  /nfs/cs-ccr-adtobsnfs/lhc_adtobsbox_data/7478/...         20        894.0   \n",
       "\n",
       "   bunch_number  ts_length  \n",
       "1           0.0      65536  \n",
       "2           1.0      65536  \n",
       "3           2.0      65536  \n",
       "4           3.0      65536  \n",
       "5           4.0      65536  "
      ]
     },
     "execution_count": 7,
     "metadata": {},
     "output_type": "execute_result"
    }
   ],
   "source": [
    "meta_df.head()"
   ]
  },
  {
   "cell_type": "markdown",
   "metadata": {},
   "source": [
    "go back to file level, each entry is a single file, i.e. a trigger of the ObsBox"
   ]
  },
  {
   "cell_type": "code",
   "execution_count": 8,
   "metadata": {},
   "outputs": [
    {
     "data": {
      "text/plain": [
       "(170509, 9)"
      ]
     },
     "execution_count": 8,
     "metadata": {},
     "output_type": "execute_result"
    }
   ],
   "source": [
    "meta_df_grouped = meta_df.drop_duplicates([\"file\"]).drop([\"bunch_index\", \"bunch_number\"], axis=1)\n",
    "meta_df_grouped.shape"
   ]
  },
  {
   "cell_type": "code",
   "execution_count": 9,
   "metadata": {},
   "outputs": [
    {
     "data": {
      "text/html": [
       "<div>\n",
       "<style scoped>\n",
       "    .dataframe tbody tr th:only-of-type {\n",
       "        vertical-align: middle;\n",
       "    }\n",
       "\n",
       "    .dataframe tbody tr th {\n",
       "        vertical-align: top;\n",
       "    }\n",
       "\n",
       "    .dataframe thead th {\n",
       "        text-align: right;\n",
       "    }\n",
       "</style>\n",
       "<table border=\"1\" class=\"dataframe\">\n",
       "  <thead>\n",
       "    <tr style=\"text-align: right;\">\n",
       "      <th></th>\n",
       "      <th>type</th>\n",
       "      <th>fill</th>\n",
       "      <th>beam</th>\n",
       "      <th>plane</th>\n",
       "      <th>q</th>\n",
       "      <th>date_time</th>\n",
       "      <th>file</th>\n",
       "      <th>n_bunches</th>\n",
       "      <th>ts_length</th>\n",
       "    </tr>\n",
       "  </thead>\n",
       "  <tbody>\n",
       "    <tr>\n",
       "      <th>1</th>\n",
       "      <td>Inst</td>\n",
       "      <td>7478</td>\n",
       "      <td>1</td>\n",
       "      <td>h</td>\n",
       "      <td>7</td>\n",
       "      <td>2018-11-27 14:49:16</td>\n",
       "      <td>/nfs/cs-ccr-adtobsnfs/lhc_adtobsbox_data/7478/...</td>\n",
       "      <td>20</td>\n",
       "      <td>65536</td>\n",
       "    </tr>\n",
       "    <tr>\n",
       "      <th>21</th>\n",
       "      <td>Inst</td>\n",
       "      <td>6897</td>\n",
       "      <td>1</td>\n",
       "      <td>h</td>\n",
       "      <td>7</td>\n",
       "      <td>2018-07-08 00:36:16</td>\n",
       "      <td>/nfs/cs-ccr-adtobsnfs/lhc_adtobsbox_data/6897/...</td>\n",
       "      <td>192</td>\n",
       "      <td>65536</td>\n",
       "    </tr>\n",
       "    <tr>\n",
       "      <th>213</th>\n",
       "      <td>Inst</td>\n",
       "      <td>6272</td>\n",
       "      <td>1</td>\n",
       "      <td>h</td>\n",
       "      <td>7</td>\n",
       "      <td>2017-10-05 01:30:07</td>\n",
       "      <td>/nfs/cs-ccr-adtobsnfs/lhc_adtobsbox_data/6272/...</td>\n",
       "      <td>972</td>\n",
       "      <td>65536</td>\n",
       "    </tr>\n",
       "    <tr>\n",
       "      <th>1185</th>\n",
       "      <td>Inst</td>\n",
       "      <td>7486</td>\n",
       "      <td>1</td>\n",
       "      <td>h</td>\n",
       "      <td>7</td>\n",
       "      <td>2018-11-30 09:54:15</td>\n",
       "      <td>/nfs/cs-ccr-adtobsnfs/lhc_adtobsbox_data/7486/...</td>\n",
       "      <td>733</td>\n",
       "      <td>65536</td>\n",
       "    </tr>\n",
       "    <tr>\n",
       "      <th>1918</th>\n",
       "      <td>Inst</td>\n",
       "      <td>6990</td>\n",
       "      <td>1</td>\n",
       "      <td>h</td>\n",
       "      <td>7</td>\n",
       "      <td>2018-07-27 09:47:15</td>\n",
       "      <td>/nfs/cs-ccr-adtobsnfs/lhc_adtobsbox_data/6990/...</td>\n",
       "      <td>444</td>\n",
       "      <td>65536</td>\n",
       "    </tr>\n",
       "  </tbody>\n",
       "</table>\n",
       "</div>"
      ],
      "text/plain": [
       "      type  fill  beam plane  q           date_time  \\\n",
       "1     Inst  7478     1     h  7 2018-11-27 14:49:16   \n",
       "21    Inst  6897     1     h  7 2018-07-08 00:36:16   \n",
       "213   Inst  6272     1     h  7 2017-10-05 01:30:07   \n",
       "1185  Inst  7486     1     h  7 2018-11-30 09:54:15   \n",
       "1918  Inst  6990     1     h  7 2018-07-27 09:47:15   \n",
       "\n",
       "                                                   file  n_bunches  ts_length  \n",
       "1     /nfs/cs-ccr-adtobsnfs/lhc_adtobsbox_data/7478/...         20      65536  \n",
       "21    /nfs/cs-ccr-adtobsnfs/lhc_adtobsbox_data/6897/...        192      65536  \n",
       "213   /nfs/cs-ccr-adtobsnfs/lhc_adtobsbox_data/6272/...        972      65536  \n",
       "1185  /nfs/cs-ccr-adtobsnfs/lhc_adtobsbox_data/7486/...        733      65536  \n",
       "1918  /nfs/cs-ccr-adtobsnfs/lhc_adtobsbox_data/6990/...        444      65536  "
      ]
     },
     "execution_count": 9,
     "metadata": {},
     "output_type": "execute_result"
    }
   ],
   "source": [
    "meta_df_grouped.head()"
   ]
  },
  {
   "cell_type": "markdown",
   "metadata": {},
   "source": [
    "# Check the plane/beam distributions"
   ]
  },
  {
   "cell_type": "code",
   "execution_count": 10,
   "metadata": {},
   "outputs": [
    {
     "data": {
      "text/plain": [
       "<AxesSubplot:title={'center':'Beam/plane ObsBox trigger split'}>"
      ]
     },
     "execution_count": 10,
     "metadata": {},
     "output_type": "execute_result"
    },
    {
     "data": {
      "image/png": "[encoded data removed]",
      "text/plain": [
       "<Figure size 432x288 with 1 Axes>"
      ]
     },
     "metadata": {},
     "output_type": "display_data"
    }
   ],
   "source": [
    "meta_df_grouped.value_counts([\"plane\", \"beam\"]).plot.pie(ylabel=\"\", title=\"Beam/plane ObsBox trigger split\")"
   ]
  },
  {
   "cell_type": "markdown",
   "metadata": {},
   "source": [
    "# Check the time distributions"
   ]
  },
  {
   "cell_type": "code",
   "execution_count": 11,
   "metadata": {
    "scrolled": false
   },
   "outputs": [
    {
     "data": {
      "image/png": "[encoded data removed]",
      "text/plain": [
       "<Figure size 1080x432 with 1 Axes>"
      ]
     },
     "metadata": {
      "needs_background": "light"
     },
     "output_type": "display_data"
    },
    {
     "data": {
      "image/png": "[encoded data removed]",
      "text/plain": [
       "<Figure size 1080x432 with 1 Axes>"
      ]
     },
     "metadata": {
      "needs_background": "light"
     },
     "output_type": "display_data"
    },
    {
     "data": {
      "image/png": "[encoded data removed]",
      "text/plain": [
       "<Figure size 1080x432 with 1 Axes>"
      ]
     },
     "metadata": {
      "needs_background": "light"
     },
     "output_type": "display_data"
    },
    {
     "data": {
      "image/png": "[encoded data removed]",
      "text/plain": [
       "<Figure size 1080x432 with 1 Axes>"
      ]
     },
     "metadata": {
      "needs_background": "light"
     },
     "output_type": "display_data"
    }
   ],
   "source": [
    "for group, df in meta_df_grouped.groupby([\"beam\", \"plane\"])[\"date_time\"]:\n",
    "    plt.figure(figsize=(15, 6))\n",
    "    plt.hist(df, bins=500)\n",
    "    plt.title(group)\n",
    "    plt.xlabel(\"date_time\")\n",
    "    plt.ylabel(\"count\")\n",
    "    plt.show()"
   ]
  },
  {
   "cell_type": "markdown",
   "metadata": {},
   "source": [
    "# Check the number of bunch histograms"
   ]
  },
  {
   "cell_type": "code",
   "execution_count": 12,
   "metadata": {
    "scrolled": false
   },
   "outputs": [
    {
     "data": {
      "image/png": "[encoded data removed]",
      "text/plain": [
       "<Figure size 432x288 with 1 Axes>"
      ]
     },
     "metadata": {
      "needs_background": "light"
     },
     "output_type": "display_data"
    },
    {
     "data": {
      "image/png": "[encoded data removed]",
      "text/plain": [
       "<Figure size 432x288 with 1 Axes>"
      ]
     },
     "metadata": {
      "needs_background": "light"
     },
     "output_type": "display_data"
    },
    {
     "data": {
      "image/png": "[encoded data removed]",
      "text/plain": [
       "<Figure size 432x288 with 1 Axes>"
      ]
     },
     "metadata": {
      "needs_background": "light"
     },
     "output_type": "display_data"
    },
    {
     "data": {
      "image/png": "[encoded data removed]",
      "text/plain": [
       "<Figure size 432x288 with 1 Axes>"
      ]
     },
     "metadata": {
      "needs_background": "light"
     },
     "output_type": "display_data"
    }
   ],
   "source": [
    "for group, df in meta_df_grouped.groupby([\"beam\", \"plane\"])[\"n_bunches\"]:\n",
    "    plt.hist(df)\n",
    "    plt.title(group)\n",
    "    plt.xlabel(\"n_bunches\")\n",
    "    plt.ylabel(\"count\")\n",
    "    plt.show()"
   ]
  }
 ],
 "metadata": {
  "kernelspec": {
   "display_name": "Python 3",
   "language": "python",
   "name": "python3"
  },
  "language_info": {
   "codemirror_mode": {
    "name": "ipython",
    "version": 3
   },
   "file_extension": ".py",
   "mimetype": "text/x-python",
   "name": "python",
   "nbconvert_exporter": "python",
   "pygments_lexer": "ipython3",
   "version": "3.6.8"
  }
 },
 "nbformat": 4,
 "nbformat_minor": 4
}
