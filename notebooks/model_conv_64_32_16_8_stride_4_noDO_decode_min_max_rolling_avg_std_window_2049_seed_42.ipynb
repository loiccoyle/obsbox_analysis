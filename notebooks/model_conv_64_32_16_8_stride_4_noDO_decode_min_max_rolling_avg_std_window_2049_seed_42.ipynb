{
 "cells": [
  {
   "cell_type": "code",
   "execution_count": 1,
   "metadata": {},
   "outputs": [],
   "source": [
    "from paths import models_folder, metadata_folder, latent_space_folder"
   ]
  },
  {
   "cell_type": "code",
   "execution_count": 2,
   "metadata": {},
   "outputs": [],
   "source": [
    "from pyobsbox import ObsBoxGenerator"
   ]
  },
  {
   "cell_type": "code",
   "execution_count": 31,
   "metadata": {},
   "outputs": [],
   "source": [
    "ObsBoxGenerator??"
   ]
  },
  {
   "cell_type": "code",
   "execution_count": 3,
   "metadata": {},
   "outputs": [],
   "source": [
    "import logging\n",
    "import keras\n",
    "import json\n",
    "import matplotlib.pyplot as plt\n",
    "import pandas as pd\n",
    "import numpy as np\n",
    "from tqdm.auto import tqdm"
   ]
  },
  {
   "cell_type": "code",
   "execution_count": 4,
   "metadata": {},
   "outputs": [],
   "source": [
    "logging.getLogger(\"pyobsbox\").setLevel(logging.INFO)"
   ]
  },
  {
   "cell_type": "markdown",
   "metadata": {},
   "source": [
    "# List models"
   ]
  },
  {
   "cell_type": "code",
   "execution_count": 5,
   "metadata": {},
   "outputs": [
    {
     "data": {
      "text/plain": [
       "[PosixPath('/afs/cern.ch/work/l/lcoyle/public/obsbox_analysis/models/model_conv_64_32_16_8_stride_4_B1H_Inst_znorm_abs_diff_seed_42'),\n",
       " PosixPath('/afs/cern.ch/work/l/lcoyle/public/obsbox_analysis/models/model_dense_512_128_32_8_B1H_Inst_center_scale_100_seed_42'),\n",
       " PosixPath('/afs/cern.ch/work/l/lcoyle/public/obsbox_analysis/models/model_conv_64_32_16_8_stride_4_B1H_Inst_znorm_seed_42'),\n",
       " PosixPath('/afs/cern.ch/work/l/lcoyle/public/obsbox_analysis/models/model_time_dist_32_16_B1H_Inst_500'),\n",
       " PosixPath('/afs/cern.ch/work/l/lcoyle/public/obsbox_analysis/models/model_conv_64_32_16_8_stride_4_noDO_decode_B1H_Inst_center_scale_100_seed_42'),\n",
       " PosixPath('/afs/cern.ch/work/l/lcoyle/public/obsbox_analysis/models/model_conv_32_16_stride_4_B1H_Inst'),\n",
       " PosixPath('/afs/cern.ch/work/l/lcoyle/public/obsbox_analysis/models/model_conv_32_16_stride_4_B1H_Inst_jorg'),\n",
       " PosixPath('/afs/cern.ch/work/l/lcoyle/public/obsbox_analysis/models/model_conv_max_pool_64_32_16_8_stride_4_B1H_Inst_center_scale_100_seed_42'),\n",
       " PosixPath('/afs/cern.ch/work/l/lcoyle/public/obsbox_analysis/models/model_conv_32_16_8_stride_4_B1H_Inst_presplit_center_scale_1000_seed_42'),\n",
       " PosixPath('/afs/cern.ch/work/l/lcoyle/public/obsbox_analysis/models/model_conv_64_32_16_8_stride_4_noDO_decode_B1H_Inst_min_max_rolling_avg_std_window_2049_seed_42'),\n",
       " PosixPath('/afs/cern.ch/work/l/lcoyle/public/obsbox_analysis/models/model_conv_32_16_8_stride_4_B1H_Inst_center_scale_10000_seed_42'),\n",
       " PosixPath('/afs/cern.ch/work/l/lcoyle/public/obsbox_analysis/models/model_conv_32_16_8_stride_4_B1H_Inst_center_scale_1000_seed_42'),\n",
       " PosixPath('/afs/cern.ch/work/l/lcoyle/public/obsbox_analysis/models/model_conv_32_16_8_stride_4_B1H_Inst_center_scale_100_seed_42'),\n",
       " PosixPath('/afs/cern.ch/work/l/lcoyle/public/obsbox_analysis/models/model_conv_32_16_8_stride_4_B1H_Inst_presplit_center_scale_100_seed_42'),\n",
       " PosixPath('/afs/cern.ch/work/l/lcoyle/public/obsbox_analysis/models/model_conv_32_16_8_stride_4_B1H_Inst_presplit_znorm_seed_42'),\n",
       " PosixPath('/afs/cern.ch/work/l/lcoyle/public/obsbox_analysis/models/model_conv_32_16_8_stride_4_B1H_Inst_znorm_seed_42'),\n",
       " PosixPath('/afs/cern.ch/work/l/lcoyle/public/obsbox_analysis/models/model_conv_32_16_8_4_stride_4_B1H_Inst_center_scale_100_seed_42'),\n",
       " PosixPath('/afs/cern.ch/work/l/lcoyle/public/obsbox_analysis/models/model_conv_64_16_4_stride_4_B1H_Inst_center_scale_100_seed_42'),\n",
       " PosixPath('/afs/cern.ch/work/l/lcoyle/public/obsbox_analysis/models/model_conv_64_32_16_8_stride_4_B1H_Inst_center_scale_100_seed_42'),\n",
       " PosixPath('/afs/cern.ch/work/l/lcoyle/public/obsbox_analysis/models/model_conv_32_16_8_stride_4_8_B1H_Inst_center_scale_100_seed_42'),\n",
       " PosixPath('/afs/cern.ch/work/l/lcoyle/public/obsbox_analysis/models/model_conv_64_32_16_stride_4_B1H_Inst_center_scale_100_seed_42'),\n",
       " PosixPath('/afs/cern.ch/work/l/lcoyle/public/obsbox_analysis/models/model_conv_32_16_8_stride_4_B1H_Inst_center_scale_10_seed_42'),\n",
       " PosixPath('/afs/cern.ch/work/l/lcoyle/public/obsbox_analysis/models/model_conv_64_32_16_8_stride_4_B1H_Inst_center_scale_100_abs_diff_seed_42'),\n",
       " PosixPath('/afs/cern.ch/work/l/lcoyle/public/obsbox_analysis/models/model_conv_64_32_16_8_stride_4_B1H_Inst_min_max_abs_diff_seed_42')]"
      ]
     },
     "execution_count": 5,
     "metadata": {},
     "output_type": "execute_result"
    }
   ],
   "source": [
    "list(models_folder.glob('model_*'))"
   ]
  },
  {
   "cell_type": "code",
   "execution_count": 6,
   "metadata": {},
   "outputs": [],
   "source": [
    "model_path = models_folder / \"model_conv_64_32_16_8_stride_4_noDO_decode_B1H_Inst_min_max_rolling_avg_std_window_2049_seed_42\""
   ]
  },
  {
   "cell_type": "code",
   "execution_count": 7,
   "metadata": {},
   "outputs": [
    {
     "data": {
      "text/plain": [
       "[PosixPath('/afs/cern.ch/work/l/lcoyle/public/obsbox_analysis/models/model_conv_64_32_16_8_stride_4_noDO_decode_B1H_Inst_min_max_rolling_avg_std_window_2049_seed_42/validation_fetched.npy'),\n",
       " PosixPath('/afs/cern.ch/work/l/lcoyle/public/obsbox_analysis/models/model_conv_64_32_16_8_stride_4_noDO_decode_B1H_Inst_min_max_rolling_avg_std_window_2049_seed_42/train_fetched.npy')]"
      ]
     },
     "execution_count": 7,
     "metadata": {},
     "output_type": "execute_result"
    }
   ],
   "source": [
    "list(model_path.glob('*fetched*'))"
   ]
  },
  {
   "cell_type": "markdown",
   "metadata": {},
   "source": [
    "# Load model and associated generators"
   ]
  },
  {
   "cell_type": "code",
   "execution_count": 8,
   "metadata": {},
   "outputs": [
    {
     "name": "stdout",
     "output_type": "stream",
     "text": [
      "Model: \"sequential\"\n",
      "_________________________________________________________________\n",
      "Layer (type)                 Output Shape              Param #   \n",
      "=================================================================\n",
      "conv1d (Conv1D)              (None, 512, 64)           960       \n",
      "_________________________________________________________________\n",
      "dropout (Dropout)            (None, 512, 64)           0         \n",
      "_________________________________________________________________\n",
      "conv1d_1 (Conv1D)            (None, 128, 32)           14368     \n",
      "_________________________________________________________________\n",
      "dropout_1 (Dropout)          (None, 128, 32)           0         \n",
      "_________________________________________________________________\n",
      "conv1d_2 (Conv1D)            (None, 32, 16)            3600      \n",
      "_________________________________________________________________\n",
      "dropout_2 (Dropout)          (None, 32, 16)            0         \n",
      "_________________________________________________________________\n",
      "conv1d_3 (Conv1D)            (None, 8, 8)              904       \n",
      "_________________________________________________________________\n",
      "conv1d_transpose (Conv1DTran (None, 32, 8)             456       \n",
      "_________________________________________________________________\n",
      "conv1d_transpose_1 (Conv1DTr (None, 128, 16)           912       \n",
      "_________________________________________________________________\n",
      "conv1d_transpose_2 (Conv1DTr (None, 512, 32)           3616      \n",
      "_________________________________________________________________\n",
      "conv1d_transpose_3 (Conv1DTr (None, 2048, 64)          14400     \n",
      "_________________________________________________________________\n",
      "conv1d_transpose_4 (Conv1DTr (None, 2048, 2)           898       \n",
      "=================================================================\n",
      "Total params: 40,114\n",
      "Trainable params: 40,114\n",
      "Non-trainable params: 0\n",
      "_________________________________________________________________\n"
     ]
    },
    {
     "name": "stderr",
     "output_type": "stream",
     "text": [
      "Apr/20 10:59:21 pyobsbox.generator INFO: metadata_path: /afs/cern.ch/work/l/lcoyle/public/obsbox_analysis/metadata/metadata_B1H_Inst_34994.h5\n",
      "Apr/20 10:59:21 pyobsbox.generator INFO: shuffle: True\n",
      "Apr/20 10:59:21 pyobsbox.generator INFO: seed: 42\n",
      "Apr/20 10:59:21 pyobsbox.generator INFO: batch_size: 8192\n",
      "Apr/20 10:59:21 pyobsbox.generator INFO: sequence_length: 2048\n",
      "Apr/20 10:59:21 pyobsbox.generator INFO: n_bunches: 256\n",
      "Apr/20 10:59:21 pyobsbox.generator INFO: __len__: 1039\n",
      "Apr/20 10:59:21 pyobsbox.generator INFO: fetched_log_folder: None\n",
      "Apr/20 10:59:21 pyobsbox.generator INFO: fetched_log_prefix: \n",
      "Apr/20 10:59:21 pyobsbox.generator INFO: normalization: min_max\n",
      "Apr/20 10:59:21 pyobsbox.generator INFO: normalization_pre_split: False\n",
      "Apr/20 10:59:21 pyobsbox.generator INFO: normalization_kwargs: {}\n",
      "Apr/20 10:59:21 pyobsbox.generator INFO: abs_diff: False\n",
      "Apr/20 10:59:21 pyobsbox.generator INFO: diff: False\n",
      "Apr/20 10:59:21 pyobsbox.generator INFO: rolling_avg: True\n",
      "Apr/20 10:59:21 pyobsbox.generator INFO: rolling_std: True\n",
      "Apr/20 10:59:21 pyobsbox.generator INFO: rolling_window: 2049\n",
      "Apr/20 10:59:21 pyobsbox.generator INFO: return_meta: True\n",
      "Apr/20 10:59:21 pyobsbox.generator INFO: metadata_path: /afs/cern.ch/work/l/lcoyle/public/obsbox_analysis/metadata/metadata_B1H_Inst_34994.h5\n",
      "Apr/20 10:59:21 pyobsbox.generator INFO: shuffle: True\n",
      "Apr/20 10:59:21 pyobsbox.generator INFO: seed: 42\n",
      "Apr/20 10:59:21 pyobsbox.generator INFO: batch_size: 8192\n",
      "Apr/20 10:59:21 pyobsbox.generator INFO: sequence_length: 2048\n",
      "Apr/20 10:59:21 pyobsbox.generator INFO: n_bunches: 256\n",
      "Apr/20 10:59:21 pyobsbox.generator INFO: __len__: 15\n",
      "Apr/20 10:59:21 pyobsbox.generator INFO: fetched_log_folder: None\n",
      "Apr/20 10:59:21 pyobsbox.generator INFO: fetched_log_prefix: \n",
      "Apr/20 10:59:21 pyobsbox.generator INFO: normalization: min_max\n",
      "Apr/20 10:59:21 pyobsbox.generator INFO: normalization_pre_split: False\n",
      "Apr/20 10:59:21 pyobsbox.generator INFO: normalization_kwargs: {}\n",
      "Apr/20 10:59:21 pyobsbox.generator INFO: abs_diff: False\n",
      "Apr/20 10:59:21 pyobsbox.generator INFO: diff: False\n",
      "Apr/20 10:59:21 pyobsbox.generator INFO: rolling_avg: True\n",
      "Apr/20 10:59:21 pyobsbox.generator INFO: rolling_std: True\n",
      "Apr/20 10:59:21 pyobsbox.generator INFO: rolling_window: 2049\n",
      "Apr/20 10:59:21 pyobsbox.generator INFO: return_meta: True\n"
     ]
    }
   ],
   "source": [
    "model = keras.models.load_model(model_path)\n",
    "model.summary()\n",
    "model_metadata = json.load((model_path / \"metadata.json\").open('r'))\n",
    "data_metadata_path = model_metadata[\"generator\"][\"metadata_path\"]\n",
    "\n",
    "# load the data metadata\n",
    "data_metadata_df = pd.read_hdf(data_metadata_path)\n",
    "\n",
    "# load the indices of the data seen by the model\n",
    "train_seen_indices = np.load(model_path / \"train_fetched.npy\")\n",
    "validation_seen_indices = np.load(model_path / \"validation_fetched.npy\")\n",
    "\n",
    "# train/validation split\n",
    "# train_split_indices = np.load(model_path / \"train_split_indices.npy\")\n",
    "# validation_split_indices = np.load(model_path / \"validation_split_indices.npy\")\n",
    "\n",
    "# load the data seen by the model\n",
    "train_metadata = data_metadata_df.iloc[train_seen_indices]\n",
    "validation_metadata = data_metadata_df.iloc[validation_seen_indices]\n",
    "\n",
    "# the training loss history\n",
    "hist = model_metadata[\"history\"]\n",
    "\n",
    "# create the generators\n",
    "train_generator = ObsBoxGenerator(train_metadata,\n",
    "                                  **model_metadata[\"generator\"],\n",
    "                                  return_meta=True)\n",
    "validation_generator = ObsBoxGenerator(validation_metadata,\n",
    "                                       **model_metadata[\"generator\"],\n",
    "                                       return_meta=True)"
   ]
  },
  {
   "cell_type": "code",
   "execution_count": 9,
   "metadata": {},
   "outputs": [
    {
     "name": "stdout",
     "output_type": "stream",
     "text": [
      "(265984, 11)\n"
     ]
    },
    {
     "data": {
      "text/html": [
       "<div>\n",
       "<style scoped>\n",
       "    .dataframe tbody tr th:only-of-type {\n",
       "        vertical-align: middle;\n",
       "    }\n",
       "\n",
       "    .dataframe tbody tr th {\n",
       "        vertical-align: top;\n",
       "    }\n",
       "\n",
       "    .dataframe thead th {\n",
       "        text-align: right;\n",
       "    }\n",
       "</style>\n",
       "<table border=\"1\" class=\"dataframe\">\n",
       "  <thead>\n",
       "    <tr style=\"text-align: right;\">\n",
       "      <th></th>\n",
       "      <th>type</th>\n",
       "      <th>fill</th>\n",
       "      <th>beam</th>\n",
       "      <th>plane</th>\n",
       "      <th>q</th>\n",
       "      <th>date_time</th>\n",
       "      <th>file</th>\n",
       "      <th>n_bunches</th>\n",
       "      <th>bunch_index</th>\n",
       "      <th>bunch_number</th>\n",
       "      <th>ts_length</th>\n",
       "    </tr>\n",
       "  </thead>\n",
       "  <tbody>\n",
       "    <tr>\n",
       "      <th>7245346</th>\n",
       "      <td>Inst</td>\n",
       "      <td>6859</td>\n",
       "      <td>1</td>\n",
       "      <td>h</td>\n",
       "      <td>7</td>\n",
       "      <td>2018-06-28 13:38:48</td>\n",
       "      <td>/nfs/cs-ccr-adtobsnfs/lhc_adtobsbox_data/6859/...</td>\n",
       "      <td>684</td>\n",
       "      <td>809.0</td>\n",
       "      <td>577.0</td>\n",
       "      <td>65536</td>\n",
       "    </tr>\n",
       "    <tr>\n",
       "      <th>6888694</th>\n",
       "      <td>Inst</td>\n",
       "      <td>6956</td>\n",
       "      <td>1</td>\n",
       "      <td>h</td>\n",
       "      <td>7</td>\n",
       "      <td>2018-07-21 09:11:54</td>\n",
       "      <td>/nfs/cs-ccr-adtobsnfs/lhc_adtobsbox_data/6956/...</td>\n",
       "      <td>780</td>\n",
       "      <td>999.0</td>\n",
       "      <td>728.0</td>\n",
       "      <td>65536</td>\n",
       "    </tr>\n",
       "    <tr>\n",
       "      <th>1618001</th>\n",
       "      <td>Inst</td>\n",
       "      <td>6663</td>\n",
       "      <td>1</td>\n",
       "      <td>h</td>\n",
       "      <td>7</td>\n",
       "      <td>2018-05-10 15:13:15</td>\n",
       "      <td>/nfs/cs-ccr-adtobsnfs/lhc_adtobsbox_data/6663/...</td>\n",
       "      <td>2556</td>\n",
       "      <td>2154.0</td>\n",
       "      <td>1590.0</td>\n",
       "      <td>65536</td>\n",
       "    </tr>\n",
       "    <tr>\n",
       "      <th>6141410</th>\n",
       "      <td>Inst</td>\n",
       "      <td>7466</td>\n",
       "      <td>1</td>\n",
       "      <td>h</td>\n",
       "      <td>7</td>\n",
       "      <td>2018-11-22 20:57:15</td>\n",
       "      <td>/nfs/cs-ccr-adtobsnfs/lhc_adtobsbox_data/7466/...</td>\n",
       "      <td>670</td>\n",
       "      <td>1412.0</td>\n",
       "      <td>298.0</td>\n",
       "      <td>65536</td>\n",
       "    </tr>\n",
       "    <tr>\n",
       "      <th>593709</th>\n",
       "      <td>Inst</td>\n",
       "      <td>6245</td>\n",
       "      <td>1</td>\n",
       "      <td>h</td>\n",
       "      <td>7</td>\n",
       "      <td>2017-09-26 15:54:15</td>\n",
       "      <td>/nfs/cs-ccr-adtobsnfs/lhc_adtobsbox_data/6245/...</td>\n",
       "      <td>1916</td>\n",
       "      <td>2393.0</td>\n",
       "      <td>1316.0</td>\n",
       "      <td>65536</td>\n",
       "    </tr>\n",
       "  </tbody>\n",
       "</table>\n",
       "</div>"
      ],
      "text/plain": [
       "         type  fill  beam plane  q           date_time  \\\n",
       "7245346  Inst  6859     1     h  7 2018-06-28 13:38:48   \n",
       "6888694  Inst  6956     1     h  7 2018-07-21 09:11:54   \n",
       "1618001  Inst  6663     1     h  7 2018-05-10 15:13:15   \n",
       "6141410  Inst  7466     1     h  7 2018-11-22 20:57:15   \n",
       "593709   Inst  6245     1     h  7 2017-09-26 15:54:15   \n",
       "\n",
       "                                                      file  n_bunches  \\\n",
       "7245346  /nfs/cs-ccr-adtobsnfs/lhc_adtobsbox_data/6859/...        684   \n",
       "6888694  /nfs/cs-ccr-adtobsnfs/lhc_adtobsbox_data/6956/...        780   \n",
       "1618001  /nfs/cs-ccr-adtobsnfs/lhc_adtobsbox_data/6663/...       2556   \n",
       "6141410  /nfs/cs-ccr-adtobsnfs/lhc_adtobsbox_data/7466/...        670   \n",
       "593709   /nfs/cs-ccr-adtobsnfs/lhc_adtobsbox_data/6245/...       1916   \n",
       "\n",
       "         bunch_index  bunch_number  ts_length  \n",
       "7245346        809.0         577.0      65536  \n",
       "6888694        999.0         728.0      65536  \n",
       "1618001       2154.0        1590.0      65536  \n",
       "6141410       1412.0         298.0      65536  \n",
       "593709        2393.0        1316.0      65536  "
      ]
     },
     "execution_count": 9,
     "metadata": {},
     "output_type": "execute_result"
    }
   ],
   "source": [
    "print(train_metadata.shape)\n",
    "train_metadata.head()"
   ]
  },
  {
   "cell_type": "code",
   "execution_count": 10,
   "metadata": {},
   "outputs": [
    {
     "name": "stdout",
     "output_type": "stream",
     "text": [
      "(3840, 11)\n"
     ]
    },
    {
     "data": {
      "text/html": [
       "<div>\n",
       "<style scoped>\n",
       "    .dataframe tbody tr th:only-of-type {\n",
       "        vertical-align: middle;\n",
       "    }\n",
       "\n",
       "    .dataframe tbody tr th {\n",
       "        vertical-align: top;\n",
       "    }\n",
       "\n",
       "    .dataframe thead th {\n",
       "        text-align: right;\n",
       "    }\n",
       "</style>\n",
       "<table border=\"1\" class=\"dataframe\">\n",
       "  <thead>\n",
       "    <tr style=\"text-align: right;\">\n",
       "      <th></th>\n",
       "      <th>type</th>\n",
       "      <th>fill</th>\n",
       "      <th>beam</th>\n",
       "      <th>plane</th>\n",
       "      <th>q</th>\n",
       "      <th>date_time</th>\n",
       "      <th>file</th>\n",
       "      <th>n_bunches</th>\n",
       "      <th>bunch_index</th>\n",
       "      <th>bunch_number</th>\n",
       "      <th>ts_length</th>\n",
       "    </tr>\n",
       "  </thead>\n",
       "  <tbody>\n",
       "    <tr>\n",
       "      <th>2147144</th>\n",
       "      <td>Inst</td>\n",
       "      <td>6264</td>\n",
       "      <td>1</td>\n",
       "      <td>h</td>\n",
       "      <td>7</td>\n",
       "      <td>2017-10-02 12:58:18</td>\n",
       "      <td>/nfs/cs-ccr-adtobsnfs/lhc_adtobsbox_data/6264/...</td>\n",
       "      <td>108</td>\n",
       "      <td>77.0</td>\n",
       "      <td>23.0</td>\n",
       "      <td>65536</td>\n",
       "    </tr>\n",
       "    <tr>\n",
       "      <th>3335519</th>\n",
       "      <td>Inst</td>\n",
       "      <td>6588</td>\n",
       "      <td>1</td>\n",
       "      <td>h</td>\n",
       "      <td>7</td>\n",
       "      <td>2018-04-21 17:06:14</td>\n",
       "      <td>/nfs/cs-ccr-adtobsnfs/lhc_adtobsbox_data/6588/...</td>\n",
       "      <td>1308</td>\n",
       "      <td>274.0</td>\n",
       "      <td>217.0</td>\n",
       "      <td>65536</td>\n",
       "    </tr>\n",
       "    <tr>\n",
       "      <th>646600</th>\n",
       "      <td>Inst</td>\n",
       "      <td>6808</td>\n",
       "      <td>1</td>\n",
       "      <td>h</td>\n",
       "      <td>7</td>\n",
       "      <td>2018-06-16 04:44:14</td>\n",
       "      <td>/nfs/cs-ccr-adtobsnfs/lhc_adtobsbox_data/6808/...</td>\n",
       "      <td>588</td>\n",
       "      <td>479.0</td>\n",
       "      <td>244.0</td>\n",
       "      <td>65536</td>\n",
       "    </tr>\n",
       "    <tr>\n",
       "      <th>7546487</th>\n",
       "      <td>Inst</td>\n",
       "      <td>7018</td>\n",
       "      <td>1</td>\n",
       "      <td>h</td>\n",
       "      <td>7</td>\n",
       "      <td>2018-08-04 15:41:25</td>\n",
       "      <td>/nfs/cs-ccr-adtobsnfs/lhc_adtobsbox_data/7018/...</td>\n",
       "      <td>2556</td>\n",
       "      <td>274.0</td>\n",
       "      <td>180.0</td>\n",
       "      <td>65536</td>\n",
       "    </tr>\n",
       "    <tr>\n",
       "      <th>8623185</th>\n",
       "      <td>Inst</td>\n",
       "      <td>6696</td>\n",
       "      <td>1</td>\n",
       "      <td>h</td>\n",
       "      <td>7</td>\n",
       "      <td>2018-05-18 10:41:14</td>\n",
       "      <td>/nfs/cs-ccr-adtobsnfs/lhc_adtobsbox_data/6696/...</td>\n",
       "      <td>2556</td>\n",
       "      <td>2858.0</td>\n",
       "      <td>2117.0</td>\n",
       "      <td>65536</td>\n",
       "    </tr>\n",
       "  </tbody>\n",
       "</table>\n",
       "</div>"
      ],
      "text/plain": [
       "         type  fill  beam plane  q           date_time  \\\n",
       "2147144  Inst  6264     1     h  7 2017-10-02 12:58:18   \n",
       "3335519  Inst  6588     1     h  7 2018-04-21 17:06:14   \n",
       "646600   Inst  6808     1     h  7 2018-06-16 04:44:14   \n",
       "7546487  Inst  7018     1     h  7 2018-08-04 15:41:25   \n",
       "8623185  Inst  6696     1     h  7 2018-05-18 10:41:14   \n",
       "\n",
       "                                                      file  n_bunches  \\\n",
       "2147144  /nfs/cs-ccr-adtobsnfs/lhc_adtobsbox_data/6264/...        108   \n",
       "3335519  /nfs/cs-ccr-adtobsnfs/lhc_adtobsbox_data/6588/...       1308   \n",
       "646600   /nfs/cs-ccr-adtobsnfs/lhc_adtobsbox_data/6808/...        588   \n",
       "7546487  /nfs/cs-ccr-adtobsnfs/lhc_adtobsbox_data/7018/...       2556   \n",
       "8623185  /nfs/cs-ccr-adtobsnfs/lhc_adtobsbox_data/6696/...       2556   \n",
       "\n",
       "         bunch_index  bunch_number  ts_length  \n",
       "2147144         77.0          23.0      65536  \n",
       "3335519        274.0         217.0      65536  \n",
       "646600         479.0         244.0      65536  \n",
       "7546487        274.0         180.0      65536  \n",
       "8623185       2858.0        2117.0      65536  "
      ]
     },
     "execution_count": 10,
     "metadata": {},
     "output_type": "execute_result"
    }
   ],
   "source": [
    "print(validation_metadata.shape)\n",
    "validation_metadata.head()"
   ]
  },
  {
   "cell_type": "markdown",
   "metadata": {},
   "source": [
    "# Loss functions"
   ]
  },
  {
   "cell_type": "code",
   "execution_count": 11,
   "metadata": {},
   "outputs": [
    {
     "data": {
      "text/plain": [
       "<matplotlib.legend.Legend at 0x7fd97476e3c8>"
      ]
     },
     "execution_count": 11,
     "metadata": {},
     "output_type": "execute_result"
    },
    {
     "data": {
      "image/png": "[encoded data removed]",
      "text/plain": [
       "<Figure size 432x288 with 1 Axes>"
      ]
     },
     "metadata": {
      "needs_background": "light"
     },
     "output_type": "display_data"
    }
   ],
   "source": [
    "plt.plot(hist['loss'], label='training loss')\n",
    "plt.plot(hist['val_loss'], label='validation loss')\n",
    "plt.legend()"
   ]
  },
  {
   "cell_type": "markdown",
   "metadata": {},
   "source": [
    "# Datasets"
   ]
  },
  {
   "cell_type": "markdown",
   "metadata": {},
   "source": [
    "Load the first few batches"
   ]
  },
  {
   "cell_type": "code",
   "execution_count": 12,
   "metadata": {},
   "outputs": [
    {
     "data": {
      "application/vnd.jupyter.widget-view+json": {
       "model_id": "1f0fc9bebbd24b33b7e8b00ba6e47166",
       "version_major": 2,
       "version_minor": 0
      },
      "text/plain": [
       "HBox(children=(HTML(value=''), FloatProgress(value=0.0, max=50.0), HTML(value='')))"
      ]
     },
     "metadata": {},
     "output_type": "display_data"
    },
    {
     "name": "stdout",
     "output_type": "stream",
     "text": [
      "\n"
     ]
    },
    {
     "data": {
      "text/plain": [
       "(396800, 2048, 2)"
      ]
     },
     "execution_count": 12,
     "metadata": {},
     "output_type": "execute_result"
    }
   ],
   "source": [
    "temp_train = [train_generator[i] for i in tqdm(range(50))]\n",
    "train_dataset = np.vstack([data[0] for data in temp_train])\n",
    "train_dataset.shape"
   ]
  },
  {
   "cell_type": "code",
   "execution_count": 13,
   "metadata": {},
   "outputs": [
    {
     "data": {
      "text/plain": [
       "(396800, 12)"
      ]
     },
     "execution_count": 13,
     "metadata": {},
     "output_type": "execute_result"
    }
   ],
   "source": [
    "train_dataset_meta = pd.concat([meta[1] for meta in temp_train])\n",
    "train_dataset_meta.shape"
   ]
  },
  {
   "cell_type": "code",
   "execution_count": 14,
   "metadata": {},
   "outputs": [],
   "source": [
    "del temp_train"
   ]
  },
  {
   "cell_type": "code",
   "execution_count": 15,
   "metadata": {},
   "outputs": [
    {
     "data": {
      "application/vnd.jupyter.widget-view+json": {
       "model_id": "38319817b9a54bfd954374aa1e577082",
       "version_major": 2,
       "version_minor": 0
      },
      "text/plain": [
       "HBox(children=(HTML(value=''), FloatProgress(value=0.0, max=5.0), HTML(value='')))"
      ]
     },
     "metadata": {},
     "output_type": "display_data"
    },
    {
     "name": "stdout",
     "output_type": "stream",
     "text": [
      "\n"
     ]
    },
    {
     "data": {
      "text/plain": [
       "(39680, 2048, 2)"
      ]
     },
     "execution_count": 15,
     "metadata": {},
     "output_type": "execute_result"
    }
   ],
   "source": [
    "temp_validation = [validation_generator[i] for i in tqdm(range(5))]\n",
    "validation_dataset = np.vstack([data[0] for data in temp_validation])\n",
    "validation_dataset.shape"
   ]
  },
  {
   "cell_type": "code",
   "execution_count": 16,
   "metadata": {},
   "outputs": [
    {
     "data": {
      "text/plain": [
       "(39680, 12)"
      ]
     },
     "execution_count": 16,
     "metadata": {},
     "output_type": "execute_result"
    }
   ],
   "source": [
    "validation_dataset_meta = pd.concat([meta[1] for meta in temp_validation])\n",
    "validation_dataset_meta.shape"
   ]
  },
  {
   "cell_type": "code",
   "execution_count": 17,
   "metadata": {},
   "outputs": [],
   "source": [
    "del temp_validation"
   ]
  },
  {
   "cell_type": "markdown",
   "metadata": {},
   "source": [
    "# Predictions"
   ]
  },
  {
   "cell_type": "code",
   "execution_count": 18,
   "metadata": {},
   "outputs": [
    {
     "name": "stdout",
     "output_type": "stream",
     "text": [
      "49/49 [==============================] - 60s 1s/step\n"
     ]
    },
    {
     "data": {
      "text/plain": [
       "(396800, 2048, 2)"
      ]
     },
     "execution_count": 18,
     "metadata": {},
     "output_type": "execute_result"
    }
   ],
   "source": [
    "train_pred = model.predict(train_dataset, verbose=1, batch_size=train_generator.batch_size)\n",
    "train_pred.shape"
   ]
  },
  {
   "cell_type": "code",
   "execution_count": 19,
   "metadata": {},
   "outputs": [
    {
     "name": "stdout",
     "output_type": "stream",
     "text": [
      "5/5 [==============================] - 5s 979ms/step\n"
     ]
    },
    {
     "data": {
      "text/plain": [
       "(39680, 2048, 2)"
      ]
     },
     "execution_count": 19,
     "metadata": {},
     "output_type": "execute_result"
    }
   ],
   "source": [
    "validation_pred = model.predict(validation_dataset, verbose=1, batch_size=validation_generator.batch_size)\n",
    "validation_pred.shape"
   ]
  },
  {
   "cell_type": "code",
   "execution_count": 20,
   "metadata": {},
   "outputs": [
    {
     "data": {
      "text/plain": [
       "(396800,)"
      ]
     },
     "execution_count": 20,
     "metadata": {},
     "output_type": "execute_result"
    }
   ],
   "source": [
    "MAE_train = abs(train_pred - train_dataset).mean(axis=(1, 2)).squeeze()\n",
    "MAE_train.shape"
   ]
  },
  {
   "cell_type": "code",
   "execution_count": 21,
   "metadata": {},
   "outputs": [
    {
     "data": {
      "text/plain": [
       "(39680,)"
      ]
     },
     "execution_count": 21,
     "metadata": {},
     "output_type": "execute_result"
    }
   ],
   "source": [
    "MAE_validation = abs(validation_pred - validation_dataset).mean(axis=(1, 2)).squeeze()\n",
    "MAE_validation.shape"
   ]
  },
  {
   "cell_type": "code",
   "execution_count": 22,
   "metadata": {},
   "outputs": [
    {
     "data": {
      "image/png": "[encoded data removed]",
      "text/plain": [
       "<Figure size 648x432 with 1 Axes>"
      ]
     },
     "metadata": {
      "needs_background": "light"
     },
     "output_type": "display_data"
    }
   ],
   "source": [
    "plt.figure(figsize=(9, 6))\n",
    "n, bins, _ = plt.hist(MAE_train, bins=100)\n",
    "plt.title(\"train dataset\")\n",
    "plt.yscale('log')"
   ]
  },
  {
   "cell_type": "markdown",
   "metadata": {},
   "source": [
    "rough peak"
   ]
  },
  {
   "cell_type": "code",
   "execution_count": 23,
   "metadata": {},
   "outputs": [
    {
     "data": {
      "text/plain": [
       "0.03966888761304112"
      ]
     },
     "execution_count": 23,
     "metadata": {},
     "output_type": "execute_result"
    }
   ],
   "source": [
    "hist_peak_train = bins[n.argmax()]\n",
    "hist_peak_train"
   ]
  },
  {
   "cell_type": "code",
   "execution_count": 24,
   "metadata": {},
   "outputs": [
    {
     "data": {
      "image/png": "[encoded data removed]",
      "text/plain": [
       "<Figure size 648x432 with 1 Axes>"
      ]
     },
     "metadata": {
      "needs_background": "light"
     },
     "output_type": "display_data"
    }
   ],
   "source": [
    "plt.figure(figsize=(9, 6))\n",
    "n, bins, _ = plt.hist(MAE_validation, bins=100)\n",
    "plt.title(\"validation dataset\")\n",
    "plt.yscale('log')"
   ]
  },
  {
   "cell_type": "code",
   "execution_count": 25,
   "metadata": {},
   "outputs": [
    {
     "data": {
      "text/plain": [
       "0.04222331816362085"
      ]
     },
     "execution_count": 25,
     "metadata": {},
     "output_type": "execute_result"
    }
   ],
   "source": [
    "hist_peak_validation = bins[n.argmax()]\n",
    "hist_peak_validation"
   ]
  },
  {
   "cell_type": "code",
   "execution_count": 26,
   "metadata": {},
   "outputs": [],
   "source": [
    "max_MAE_indices = np.argsort(MAE_train)[::-1]"
   ]
  },
  {
   "cell_type": "code",
   "execution_count": 27,
   "metadata": {},
   "outputs": [
    {
     "data": {
      "text/plain": [
       "array([158633, 238449, 152731, ..., 382985, 171361, 200637])"
      ]
     },
     "execution_count": 27,
     "metadata": {},
     "output_type": "execute_result"
    }
   ],
   "source": [
    "max_MAE_indices"
   ]
  },
  {
   "cell_type": "code",
   "execution_count": 28,
   "metadata": {},
   "outputs": [],
   "source": [
    "def plot_true_pred(true_signal, pred_signal):\n",
    "    fig, axes = plt.subplots(2, figsize=(16, 6))\n",
    "    axes[0].plot(true_signal[:, 0])\n",
    "    axes[0].plot(pred_signal[:, 0])\n",
    "\n",
    "    axes[1].plot(true_signal[:, 1])\n",
    "    axes[1].plot(pred_signal[:, 1])\n",
    "    \n",
    "#     axes[1].plot(np.abs(np.diff(true_signal)))\n",
    "#     axes[1].plot(np.abs(np.diff(pred_signal)))\n",
    "    return fig, axes\n",
    "\n",
    "from pathlib import Path\n",
    "from pyobsbox.utils import H5_PLANE_KEY\n",
    "from pyobsbox import DB\n",
    "import h5py\n",
    "\n",
    "db = DB()\n",
    "\n",
    "def load_plot(filepath: str, bunch_index: int):\n",
    "    \n",
    "    file_data = db._extract_columns(filepath)\n",
    "    beam_key = \"B{}\".format(file_data[\"beam\"])\n",
    "    plane_key = H5_PLANE_KEY[file_data[\"plane\"]]\n",
    "    with h5py.File(filepath, \"r\") as h5_file:\n",
    "        ob_data = h5_file[beam_key][plane_key]\n",
    "        fig, ax = plt.subplots(figsize=(16, 6))\n",
    "        ax.plot(ob_data[:, bunch_index])"
   ]
  },
  {
   "cell_type": "code",
   "execution_count": 29,
   "metadata": {},
   "outputs": [
    {
     "name": "stdout",
     "output_type": "stream",
     "text": [
      "index:  158633\n",
      "MAE:  0.18358054635347332\n",
      "n_bunches       196\n",
      "bunch_index     693\n",
      "bunch_number    129\n",
      "chunk            23\n",
      "Name: 6056, dtype: object\n",
      "/nfs/cs-ccr-adtobsnfs/lhc_adtobsbox_data/7442/instability_data/07442_Inst_B1H_Q7_20181113_18h41m16s.h5\n"
     ]
    },
    {
     "data": {
      "text/plain": [
       "(47104.0, 49152.0)"
      ]
     },
     "execution_count": 29,
     "metadata": {},
     "output_type": "execute_result"
    },
    {
     "data": {
      "image/png": "[encoded data removed]",
      "text/plain": [
       "<Figure size 1152x432 with 2 Axes>"
      ]
     },
     "metadata": {
      "needs_background": "light"
     },
     "output_type": "display_data"
    },
    {
     "data": {
      "image/png": "[encoded data removed]",
      "text/plain": [
       "<Figure size 1152x432 with 1 Axes>"
      ]
     },
     "metadata": {
      "needs_background": "light"
     },
     "output_type": "display_data"
    }
   ],
   "source": [
    "anomalous = 0\n",
    "anomalous_index = max_MAE_indices[anomalous]\n",
    "\n",
    "print('index: ', anomalous_index)\n",
    "print(\"MAE: \", MAE_train[anomalous_index])\n",
    "# I'm not sure this row is correct\n",
    "metadata_row = train_dataset_meta.iloc[anomalous_index]\n",
    "print(metadata_row[['n_bunches', 'bunch_index', 'bunch_number', 'chunk']])\n",
    "print(metadata_row['file'])\n",
    "\n",
    "true_signal = train_dataset[anomalous_index].squeeze()\n",
    "pred_signal = train_pred[anomalous_index].squeeze()\n",
    "\n",
    "plot_true_pred(true_signal, pred_signal)\n",
    "load_plot(metadata_row['file'], metadata_row['bunch_index'])\n",
    "\n",
    "signal_chunk = metadata_row['chunk']\n",
    "plt.xlim([true_signal.shape[0]*(signal_chunk), true_signal.shape[0]*(signal_chunk+1)])"
   ]
  },
  {
   "cell_type": "code",
   "execution_count": 30,
   "metadata": {},
   "outputs": [
    {
     "ename": "SyntaxError",
     "evalue": "'break' outside loop (<ipython-input-30-6aaf1f276005>, line 4)",
     "output_type": "error",
     "traceback": [
      "\u001b[0;36m  File \u001b[0;32m\"<ipython-input-30-6aaf1f276005>\"\u001b[0;36m, line \u001b[0;32m4\u001b[0m\n\u001b[0;31mSyntaxError\u001b[0m\u001b[0;31m:\u001b[0m 'break' outside loop\n"
     ]
    }
   ],
   "source": [
    "break"
   ]
  },
  {
   "cell_type": "markdown",
   "metadata": {},
   "source": [
    "# Top rightmost signals"
   ]
  },
  {
   "cell_type": "code",
   "execution_count": null,
   "metadata": {
    "scrolled": true
   },
   "outputs": [],
   "source": [
    "for i in range(10):\n",
    "    anomalous = i\n",
    "    anomalous_index = max_MAE_indices[anomalous]\n",
    "\n",
    "    print('index: ', anomalous_index)\n",
    "    print(\"MAE: \", MAE_train[anomalous_index])\n",
    "    # I'm not sure this row is correct\n",
    "    metadata_row = train_generator.metadata.iloc[anomalous_index]\n",
    "    print(metadata_row[['n_bunches', 'bunch_index', 'bunch_number']])\n",
    "    print(metadata_row['file'])\n",
    "\n",
    "    true_signal = train_dataset[anomalous_index].squeeze()\n",
    "    pred_signal = train_pred[anomalous_index].squeeze()\n",
    "\n",
    "    plot_true_pred(true_signal, pred_signal)\n",
    "    load_plot(metadata_row['file'], metadata_row['bunch_index'])\n",
    "    plt.show()"
   ]
  },
  {
   "cell_type": "markdown",
   "metadata": {},
   "source": [
    "# Top leftmost signals"
   ]
  },
  {
   "cell_type": "code",
   "execution_count": null,
   "metadata": {
    "scrolled": true
   },
   "outputs": [],
   "source": [
    "for i in range(1, 11):\n",
    "    left_most = -i\n",
    "    left_most_index = max_MAE_indices[left_most]\n",
    "\n",
    "    print('index: ', left_most_index)\n",
    "    print(\"MAE: \", MAE_train[left_most_index])\n",
    "    # I'm not sure this row is correct\n",
    "    metadata_row = train_generator.metadata.iloc[left_most_index]\n",
    "    print(metadata_row[['n_bunches', 'bunch_index', 'bunch_number']])\n",
    "    print(metadata_row['file'])\n",
    "\n",
    "\n",
    "    true_signal = train_dataset[left_most_index].squeeze()\n",
    "    pred_signal = train_pred[left_most_index].squeeze()\n",
    "\n",
    "    plot_true_pred(true_signal, pred_signal)\n",
    "    plt.show()"
   ]
  },
  {
   "cell_type": "markdown",
   "metadata": {},
   "source": [
    "# Signals around the peak"
   ]
  },
  {
   "cell_type": "code",
   "execution_count": null,
   "metadata": {},
   "outputs": [],
   "source": [
    "around_peak_indices = np.argsort(np.abs(MAE_train - hist_peak_train))"
   ]
  },
  {
   "cell_type": "code",
   "execution_count": null,
   "metadata": {
    "scrolled": true
   },
   "outputs": [],
   "source": [
    "for i in range(10):\n",
    "    around_peak_index = around_peak_indices[i]\n",
    "\n",
    "    print('index: ', around_peak_index)\n",
    "    print(\"MAE: \", MAE_train[around_peak_index])\n",
    "    # I'm not sure this row is correct\n",
    "    metadata_row = train_generator.metadata.iloc[around_peak_index // 32]\n",
    "    print(metadata_row[['n_bunches', 'bunch_index', 'bunch_number']])\n",
    "    print(metadata_row['file'])\n",
    "\n",
    "    true_signal = train_dataset[around_peak_index].squeeze()\n",
    "    pred_signal = train_pred[around_peak_index].squeeze()\n",
    "\n",
    "    plot_true_pred(true_signal, pred_signal)\n",
    "    plt.show()"
   ]
  },
  {
   "cell_type": "markdown",
   "metadata": {},
   "source": [
    "# around a point"
   ]
  },
  {
   "cell_type": "code",
   "execution_count": null,
   "metadata": {},
   "outputs": [],
   "source": [
    "around_point_indices = np.argsort(np.abs(MAE_train - 6))"
   ]
  },
  {
   "cell_type": "code",
   "execution_count": null,
   "metadata": {
    "scrolled": true
   },
   "outputs": [],
   "source": [
    "for i in range(10):\n",
    "    around_point_index = around_point_indices[i]\n",
    "\n",
    "    print('index: ', around_point_index)\n",
    "    print(\"MAE: \", MAE_train[around_point_index])\n",
    "    # I'm not sure this row is correct\n",
    "    metadata_row = train_generator.metadata.iloc[around_point_index // 32]\n",
    "    print(metadata_row[['n_bunches', 'bunch_index', 'bunch_number']])\n",
    "    print(metadata_row['file'])\n",
    "\n",
    "    true_signal = train_dataset[around_point_index].squeeze()\n",
    "    pred_signal = train_pred[around_point_index].squeeze()\n",
    "\n",
    "    plot_true_pred(true_signal, pred_signal)\n",
    "    plt.show()"
   ]
  },
  {
   "cell_type": "markdown",
   "metadata": {},
   "source": [
    "# latent space encoding"
   ]
  },
  {
   "cell_type": "code",
   "execution_count": null,
   "metadata": {},
   "outputs": [],
   "source": [
    "import keras"
   ]
  },
  {
   "cell_type": "code",
   "execution_count": null,
   "metadata": {},
   "outputs": [],
   "source": [
    "encoding_model = keras.Model(inputs=model.input,\n",
    "                                       outputs=model.get_layer('conv1d_3').output)"
   ]
  },
  {
   "cell_type": "code",
   "execution_count": null,
   "metadata": {},
   "outputs": [],
   "source": [
    "encoding_output = encoding_model(train_dataset[max_MAE_indices[-1]][None, :])\n",
    "encoding_output.shape"
   ]
  },
  {
   "cell_type": "code",
   "execution_count": null,
   "metadata": {},
   "outputs": [],
   "source": [
    "plt.imshow(np.array(encoding_output).squeeze())"
   ]
  },
  {
   "cell_type": "markdown",
   "metadata": {},
   "source": [
    "# Latent space encoding of nominal signals"
   ]
  },
  {
   "cell_type": "code",
   "execution_count": null,
   "metadata": {},
   "outputs": [],
   "source": [
    "for i in range(1, 11):\n",
    "    left_most = -i\n",
    "    left_most_index = max_MAE_indices[left_most]\n",
    "    \n",
    "    encoding_output = encoding_model(train_dataset[max_MAE_indices[left_most]][None, :])\n",
    "\n",
    "    print('index: ', left_most_index)\n",
    "    print(\"MAE: \", MAE_train[left_most_index])\n",
    "    # I'm not sure this row is correct\n",
    "    metadata_row = train_generator.metadata.iloc[left_most_index // 32]\n",
    "    print(metadata_row[['n_bunches', 'bunch_index', 'bunch_number']])\n",
    "    print(metadata_row['file'])\n",
    "\n",
    "\n",
    "    true_signal = train_dataset[left_most_index].squeeze()\n",
    "    pred_signal = train_pred[left_most_index].squeeze()\n",
    "\n",
    "    plot_true_pred(true_signal, pred_signal)\n",
    "    plt.show()\n",
    "    plt.imshow(np.array(encoding_output).squeeze())\n",
    "    plt.show()"
   ]
  },
  {
   "cell_type": "markdown",
   "metadata": {},
   "source": [
    "# Latent space encoding of anomalous signals"
   ]
  },
  {
   "cell_type": "code",
   "execution_count": null,
   "metadata": {
    "scrolled": true
   },
   "outputs": [],
   "source": [
    "for i in range(50):\n",
    "    anomalous = i\n",
    "    anomalous_index = max_MAE_indices[anomalous]\n",
    "    \n",
    "    encoding_output = encoding_model(train_dataset[anomalous_index][None, :])\n",
    "\n",
    "    print('index: ', anomalous_index)\n",
    "    print(\"MAE: \", MAE_train[anomalous_index])\n",
    "    # I'm not sure this row is correct\n",
    "    metadata_row = train_generator.metadata.iloc[anomalous_index // 32]\n",
    "    print(metadata_row[['n_bunches', 'bunch_index', 'bunch_number']])\n",
    "    print(metadata_row['file'])\n",
    "\n",
    "    true_signal = train_dataset[anomalous_index].squeeze()\n",
    "    pred_signal = train_pred[anomalous_index].squeeze()\n",
    "\n",
    "    plot_true_pred(true_signal, pred_signal)\n",
    "    plt.show()\n",
    "    plt.imshow(np.array(encoding_output).squeeze())\n",
    "    plt.show()"
   ]
  },
  {
   "cell_type": "markdown",
   "metadata": {},
   "source": [
    "# Generating an latent space image dataset"
   ]
  },
  {
   "cell_type": "code",
   "execution_count": null,
   "metadata": {},
   "outputs": [],
   "source": [
    "latent_dataset = []\n",
    "latent_metadata = []\n",
    "latent_input_data = []\n",
    "for i in tqdm(range(65536)):\n",
    "    anomalous = i\n",
    "    anomalous_index = max_MAE_indices[anomalous]\n",
    "    input_data = train_dataset[anomalous_index][None, :]\n",
    "    encoding_output = encoding_model(input_data)\n",
    "    latent_dataset.append(encoding_output)\n",
    "    latent_input_data.append(input_data)\n",
    "    # get the metadata\n",
    "    metadata_row = train_generator.metadata.iloc[anomalous_index // 32]\n",
    "    latent_metadata.append(metadata_row)\n",
    "#     break\n",
    "\n",
    "latent_dataset = np.vstack(latent_dataset)\n",
    "latent_input_data = np.vstack(latent_input_data)\n",
    "latent_metadata = pd.DataFrame(latent_metadata)"
   ]
  },
  {
   "cell_type": "code",
   "execution_count": null,
   "metadata": {},
   "outputs": [],
   "source": [
    "latent_metadata = pd.DataFrame(latent_metadata)"
   ]
  },
  {
   "cell_type": "code",
   "execution_count": null,
   "metadata": {},
   "outputs": [],
   "source": [
    "model_latent_space_folder = latent_space_folder / model_path.name\n",
    "model_latent_space_file = model_latent_space_folder / f'latent_space_{latent_dataset.shape[0]}.npy'\n",
    "model_latent_space_metadata_file = model_latent_space_folder / f'metadata_latent_space_{latent_dataset.shape[0]}.h5'\n",
    "model_train_dataset_file = model_latent_space_folder / f'train_dataset_{train_dataset.shape[0]}.npy'\n",
    "model_latent_input_file = model_latent_space_folder/ f\"latent_input_{latent_input_data.shape[0]}.npy\"\n",
    "model_train_max_MAE_file = model_latent_space_folder / f'train_max_MAE_{max_MAE_indices.shape[0]}.npy'"
   ]
  },
  {
   "cell_type": "code",
   "execution_count": null,
   "metadata": {},
   "outputs": [],
   "source": [
    "if not model_latent_space_folder.is_dir():\n",
    "    model_latent_space_folder.mkdir()"
   ]
  },
  {
   "cell_type": "code",
   "execution_count": null,
   "metadata": {},
   "outputs": [],
   "source": [
    "np.save(model_latent_space_file, latent_dataset)"
   ]
  },
  {
   "cell_type": "code",
   "execution_count": null,
   "metadata": {},
   "outputs": [],
   "source": [
    "latent_metadata.to_hdf(model_latent_space_metadata_file, 'data')"
   ]
  },
  {
   "cell_type": "code",
   "execution_count": null,
   "metadata": {},
   "outputs": [],
   "source": [
    "np.save(model_train_dataset_file, train_dataset)"
   ]
  },
  {
   "cell_type": "code",
   "execution_count": null,
   "metadata": {},
   "outputs": [],
   "source": [
    "np.save(model_train_max_MAE_file, max_MAE_indices)"
   ]
  },
  {
   "cell_type": "code",
   "execution_count": null,
   "metadata": {},
   "outputs": [],
   "source": [
    "np.save(model_latent_input_file, latent_input_data)"
   ]
  }
 ],
 "metadata": {
  "kernelspec": {
   "display_name": "Python 3",
   "language": "python",
   "name": "python3"
  },
  "language_info": {
   "codemirror_mode": {
    "name": "ipython",
    "version": 3
   },
   "file_extension": ".py",
   "mimetype": "text/x-python",
   "name": "python",
   "nbconvert_exporter": "python",
   "pygments_lexer": "ipython3",
   "version": "3.6.8"
  }
 },
 "nbformat": 4,
 "nbformat_minor": 4
}
